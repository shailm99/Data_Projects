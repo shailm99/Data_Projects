{
 "cells": [
  {
   "cell_type": "markdown",
   "execution_count": null,
   "metadata": {
    "papermill": {
     "duration": 0.015995,
     "end_time": "2020-08-22T06:33:43.311213",
     "exception": false,
     "start_time": "2020-08-22T06:33:43.295218",
     "status": "completed"
    },
    "tags": []
   },
   "source": [
    "# Predicting Video Game Sales \n",
    "\n",
    "\n",
    "## Overview\n",
    "1. Understanding the shape and distribution of the data \n",
    "2. Exploratory Data Analysis\n",
    "3. Feature Engineering\n",
    "4. Data Pre-processing\n",
    "5. Model Building and Tuning\n",
    "6. Final Model"
   ]
  },
  {
   "cell_type": "code",
   "execution_count": 1,
   "metadata": {
    "execution": {
     "iopub.execute_input": "2020-08-22T06:33:43.347353Z",
     "iopub.status.busy": "2020-08-22T06:33:43.346429Z",
     "iopub.status.idle": "2020-08-22T06:33:44.462233Z",
     "shell.execute_reply": "2020-08-22T06:33:44.461556Z"
    },
    "papermill": {
     "duration": 1.135345,
     "end_time": "2020-08-22T06:33:44.462405",
     "exception": false,
     "start_time": "2020-08-22T06:33:43.327060",
     "status": "completed"
    },
    "tags": []
   },
   "outputs": [],
   "source": [
    "# Load Libaries Needed\n",
    "import pandas as pd\n",
    "import numpy as np\n",
    "import matplotlib.pyplot as plt\n",
    "import seaborn as sns "
   ]
  },
  {
   "cell_type": "code",
   "execution_count": 2,
   "metadata": {
    "_cell_guid": "79c7e3d0-c299-4dcb-8224-4455121ee9b0",
    "_uuid": "d629ff2d2480ee46fbb7e2d37f6b5fab8052498a",
    "execution": {
     "iopub.execute_input": "2020-08-22T06:33:44.501759Z",
     "iopub.status.busy": "2020-08-22T06:33:44.500991Z",
     "iopub.status.idle": "2020-08-22T06:33:44.588799Z",
     "shell.execute_reply": "2020-08-22T06:33:44.589352Z"
    },
    "papermill": {
     "duration": 0.112383,
     "end_time": "2020-08-22T06:33:44.589547",
     "exception": false,
     "start_time": "2020-08-22T06:33:44.477164",
     "status": "completed"
    },
    "tags": []
   },
   "outputs": [
    {
     "data": {
      "text/html": [
       "<div>\n",
       "<style scoped>\n",
       "    .dataframe tbody tr th:only-of-type {\n",
       "        vertical-align: middle;\n",
       "    }\n",
       "\n",
       "    .dataframe tbody tr th {\n",
       "        vertical-align: top;\n",
       "    }\n",
       "\n",
       "    .dataframe thead th {\n",
       "        text-align: right;\n",
       "    }\n",
       "</style>\n",
       "<table border=\"1\" class=\"dataframe\">\n",
       "  <thead>\n",
       "    <tr style=\"text-align: right;\">\n",
       "      <th></th>\n",
       "      <th>Rank</th>\n",
       "      <th>Name</th>\n",
       "      <th>Platform</th>\n",
       "      <th>Year</th>\n",
       "      <th>Genre</th>\n",
       "      <th>Publisher</th>\n",
       "      <th>NA_Sales</th>\n",
       "      <th>EU_Sales</th>\n",
       "      <th>JP_Sales</th>\n",
       "      <th>Other_Sales</th>\n",
       "      <th>Global_Sales</th>\n",
       "    </tr>\n",
       "  </thead>\n",
       "  <tbody>\n",
       "    <tr>\n",
       "      <th>0</th>\n",
       "      <td>1</td>\n",
       "      <td>Wii Sports</td>\n",
       "      <td>Wii</td>\n",
       "      <td>2006.0</td>\n",
       "      <td>Sports</td>\n",
       "      <td>Nintendo</td>\n",
       "      <td>41.49</td>\n",
       "      <td>29.02</td>\n",
       "      <td>3.77</td>\n",
       "      <td>8.46</td>\n",
       "      <td>82.74</td>\n",
       "    </tr>\n",
       "    <tr>\n",
       "      <th>1</th>\n",
       "      <td>2</td>\n",
       "      <td>Super Mario Bros.</td>\n",
       "      <td>NES</td>\n",
       "      <td>1985.0</td>\n",
       "      <td>Platform</td>\n",
       "      <td>Nintendo</td>\n",
       "      <td>29.08</td>\n",
       "      <td>3.58</td>\n",
       "      <td>6.81</td>\n",
       "      <td>0.77</td>\n",
       "      <td>40.24</td>\n",
       "    </tr>\n",
       "    <tr>\n",
       "      <th>2</th>\n",
       "      <td>3</td>\n",
       "      <td>Mario Kart Wii</td>\n",
       "      <td>Wii</td>\n",
       "      <td>2008.0</td>\n",
       "      <td>Racing</td>\n",
       "      <td>Nintendo</td>\n",
       "      <td>15.85</td>\n",
       "      <td>12.88</td>\n",
       "      <td>3.79</td>\n",
       "      <td>3.31</td>\n",
       "      <td>35.82</td>\n",
       "    </tr>\n",
       "    <tr>\n",
       "      <th>3</th>\n",
       "      <td>4</td>\n",
       "      <td>Wii Sports Resort</td>\n",
       "      <td>Wii</td>\n",
       "      <td>2009.0</td>\n",
       "      <td>Sports</td>\n",
       "      <td>Nintendo</td>\n",
       "      <td>15.75</td>\n",
       "      <td>11.01</td>\n",
       "      <td>3.28</td>\n",
       "      <td>2.96</td>\n",
       "      <td>33.00</td>\n",
       "    </tr>\n",
       "    <tr>\n",
       "      <th>4</th>\n",
       "      <td>5</td>\n",
       "      <td>Pokemon Red/Pokemon Blue</td>\n",
       "      <td>GB</td>\n",
       "      <td>1996.0</td>\n",
       "      <td>Role-Playing</td>\n",
       "      <td>Nintendo</td>\n",
       "      <td>11.27</td>\n",
       "      <td>8.89</td>\n",
       "      <td>10.22</td>\n",
       "      <td>1.00</td>\n",
       "      <td>31.37</td>\n",
       "    </tr>\n",
       "  </tbody>\n",
       "</table>\n",
       "</div>"
      ],
      "text/plain": [
       "   Rank                      Name Platform    Year         Genre Publisher  \\\n",
       "0     1                Wii Sports      Wii  2006.0        Sports  Nintendo   \n",
       "1     2         Super Mario Bros.      NES  1985.0      Platform  Nintendo   \n",
       "2     3            Mario Kart Wii      Wii  2008.0        Racing  Nintendo   \n",
       "3     4         Wii Sports Resort      Wii  2009.0        Sports  Nintendo   \n",
       "4     5  Pokemon Red/Pokemon Blue       GB  1996.0  Role-Playing  Nintendo   \n",
       "\n",
       "   NA_Sales  EU_Sales  JP_Sales  Other_Sales  Global_Sales  \n",
       "0     41.49     29.02      3.77         8.46         82.74  \n",
       "1     29.08      3.58      6.81         0.77         40.24  \n",
       "2     15.85     12.88      3.79         3.31         35.82  \n",
       "3     15.75     11.01      3.28         2.96         33.00  \n",
       "4     11.27      8.89     10.22         1.00         31.37  "
      ]
     },
     "execution_count": 2,
     "metadata": {},
     "output_type": "execute_result"
    }
   ],
   "source": [
    "# Read the data\n",
    "data_path='/kaggle/input/videogamesales/vgsales.csv'\n",
    "df=pd.read_csv(data_path)\n",
    "# Print the first 5 rows\n",
    "df.head()"
   ]
  },
  {
   "cell_type": "code",
   "execution_count": 3,
   "metadata": {
    "execution": {
     "iopub.execute_input": "2020-08-22T06:33:44.624102Z",
     "iopub.status.busy": "2020-08-22T06:33:44.622963Z",
     "iopub.status.idle": "2020-08-22T06:33:44.627343Z",
     "shell.execute_reply": "2020-08-22T06:33:44.626617Z"
    },
    "papermill": {
     "duration": 0.023904,
     "end_time": "2020-08-22T06:33:44.627490",
     "exception": false,
     "start_time": "2020-08-22T06:33:44.603586",
     "status": "completed"
    },
    "tags": []
   },
   "outputs": [
    {
     "data": {
      "text/plain": [
       "Index(['Rank', 'Name', 'Platform', 'Year', 'Genre', 'Publisher', 'NA_Sales',\n",
       "       'EU_Sales', 'JP_Sales', 'Other_Sales', 'Global_Sales'],\n",
       "      dtype='object')"
      ]
     },
     "execution_count": 3,
     "metadata": {},
     "output_type": "execute_result"
    }
   ],
   "source": [
    "# Look at all the variables in the columns\n",
    "df.columns"
   ]
  },
  {
   "cell_type": "code",
   "execution_count": 4,
   "metadata": {
    "execution": {
     "iopub.execute_input": "2020-08-22T06:33:44.670905Z",
     "iopub.status.busy": "2020-08-22T06:33:44.670091Z",
     "iopub.status.idle": "2020-08-22T06:33:44.689398Z",
     "shell.execute_reply": "2020-08-22T06:33:44.688238Z"
    },
    "papermill": {
     "duration": 0.047653,
     "end_time": "2020-08-22T06:33:44.689585",
     "exception": false,
     "start_time": "2020-08-22T06:33:44.641932",
     "status": "completed"
    },
    "tags": []
   },
   "outputs": [
    {
     "name": "stdout",
     "output_type": "stream",
     "text": [
      "<class 'pandas.core.frame.DataFrame'>\n",
      "RangeIndex: 16598 entries, 0 to 16597\n",
      "Data columns (total 11 columns):\n",
      " #   Column        Non-Null Count  Dtype  \n",
      "---  ------        --------------  -----  \n",
      " 0   Rank          16598 non-null  int64  \n",
      " 1   Name          16598 non-null  object \n",
      " 2   Platform      16598 non-null  object \n",
      " 3   Year          16327 non-null  float64\n",
      " 4   Genre         16598 non-null  object \n",
      " 5   Publisher     16540 non-null  object \n",
      " 6   NA_Sales      16598 non-null  float64\n",
      " 7   EU_Sales      16598 non-null  float64\n",
      " 8   JP_Sales      16598 non-null  float64\n",
      " 9   Other_Sales   16598 non-null  float64\n",
      " 10  Global_Sales  16598 non-null  float64\n",
      "dtypes: float64(6), int64(1), object(4)\n",
      "memory usage: 1.4+ MB\n"
     ]
    }
   ],
   "source": [
    "#Explore the data type of each column\n",
    "df.info()"
   ]
  },
  {
   "cell_type": "code",
   "execution_count": 5,
   "metadata": {
    "execution": {
     "iopub.execute_input": "2020-08-22T06:33:44.729876Z",
     "iopub.status.busy": "2020-08-22T06:33:44.728901Z",
     "iopub.status.idle": "2020-08-22T06:33:44.766029Z",
     "shell.execute_reply": "2020-08-22T06:33:44.765233Z"
    },
    "papermill": {
     "duration": 0.06145,
     "end_time": "2020-08-22T06:33:44.766164",
     "exception": false,
     "start_time": "2020-08-22T06:33:44.704714",
     "status": "completed"
    },
    "tags": []
   },
   "outputs": [
    {
     "data": {
      "text/html": [
       "<div>\n",
       "<style scoped>\n",
       "    .dataframe tbody tr th:only-of-type {\n",
       "        vertical-align: middle;\n",
       "    }\n",
       "\n",
       "    .dataframe tbody tr th {\n",
       "        vertical-align: top;\n",
       "    }\n",
       "\n",
       "    .dataframe thead th {\n",
       "        text-align: right;\n",
       "    }\n",
       "</style>\n",
       "<table border=\"1\" class=\"dataframe\">\n",
       "  <thead>\n",
       "    <tr style=\"text-align: right;\">\n",
       "      <th></th>\n",
       "      <th>Rank</th>\n",
       "      <th>Year</th>\n",
       "      <th>NA_Sales</th>\n",
       "      <th>EU_Sales</th>\n",
       "      <th>JP_Sales</th>\n",
       "      <th>Other_Sales</th>\n",
       "      <th>Global_Sales</th>\n",
       "    </tr>\n",
       "  </thead>\n",
       "  <tbody>\n",
       "    <tr>\n",
       "      <th>count</th>\n",
       "      <td>16598.000000</td>\n",
       "      <td>16327.000000</td>\n",
       "      <td>16598.000000</td>\n",
       "      <td>16598.000000</td>\n",
       "      <td>16598.000000</td>\n",
       "      <td>16598.000000</td>\n",
       "      <td>16598.000000</td>\n",
       "    </tr>\n",
       "    <tr>\n",
       "      <th>mean</th>\n",
       "      <td>8300.605254</td>\n",
       "      <td>2006.406443</td>\n",
       "      <td>0.264667</td>\n",
       "      <td>0.146652</td>\n",
       "      <td>0.077782</td>\n",
       "      <td>0.048063</td>\n",
       "      <td>0.537441</td>\n",
       "    </tr>\n",
       "    <tr>\n",
       "      <th>std</th>\n",
       "      <td>4791.853933</td>\n",
       "      <td>5.828981</td>\n",
       "      <td>0.816683</td>\n",
       "      <td>0.505351</td>\n",
       "      <td>0.309291</td>\n",
       "      <td>0.188588</td>\n",
       "      <td>1.555028</td>\n",
       "    </tr>\n",
       "    <tr>\n",
       "      <th>min</th>\n",
       "      <td>1.000000</td>\n",
       "      <td>1980.000000</td>\n",
       "      <td>0.000000</td>\n",
       "      <td>0.000000</td>\n",
       "      <td>0.000000</td>\n",
       "      <td>0.000000</td>\n",
       "      <td>0.010000</td>\n",
       "    </tr>\n",
       "    <tr>\n",
       "      <th>25%</th>\n",
       "      <td>4151.250000</td>\n",
       "      <td>2003.000000</td>\n",
       "      <td>0.000000</td>\n",
       "      <td>0.000000</td>\n",
       "      <td>0.000000</td>\n",
       "      <td>0.000000</td>\n",
       "      <td>0.060000</td>\n",
       "    </tr>\n",
       "    <tr>\n",
       "      <th>50%</th>\n",
       "      <td>8300.500000</td>\n",
       "      <td>2007.000000</td>\n",
       "      <td>0.080000</td>\n",
       "      <td>0.020000</td>\n",
       "      <td>0.000000</td>\n",
       "      <td>0.010000</td>\n",
       "      <td>0.170000</td>\n",
       "    </tr>\n",
       "    <tr>\n",
       "      <th>75%</th>\n",
       "      <td>12449.750000</td>\n",
       "      <td>2010.000000</td>\n",
       "      <td>0.240000</td>\n",
       "      <td>0.110000</td>\n",
       "      <td>0.040000</td>\n",
       "      <td>0.040000</td>\n",
       "      <td>0.470000</td>\n",
       "    </tr>\n",
       "    <tr>\n",
       "      <th>max</th>\n",
       "      <td>16600.000000</td>\n",
       "      <td>2020.000000</td>\n",
       "      <td>41.490000</td>\n",
       "      <td>29.020000</td>\n",
       "      <td>10.220000</td>\n",
       "      <td>10.570000</td>\n",
       "      <td>82.740000</td>\n",
       "    </tr>\n",
       "  </tbody>\n",
       "</table>\n",
       "</div>"
      ],
      "text/plain": [
       "               Rank          Year      NA_Sales      EU_Sales      JP_Sales  \\\n",
       "count  16598.000000  16327.000000  16598.000000  16598.000000  16598.000000   \n",
       "mean    8300.605254   2006.406443      0.264667      0.146652      0.077782   \n",
       "std     4791.853933      5.828981      0.816683      0.505351      0.309291   \n",
       "min        1.000000   1980.000000      0.000000      0.000000      0.000000   \n",
       "25%     4151.250000   2003.000000      0.000000      0.000000      0.000000   \n",
       "50%     8300.500000   2007.000000      0.080000      0.020000      0.000000   \n",
       "75%    12449.750000   2010.000000      0.240000      0.110000      0.040000   \n",
       "max    16600.000000   2020.000000     41.490000     29.020000     10.220000   \n",
       "\n",
       "        Other_Sales  Global_Sales  \n",
       "count  16598.000000  16598.000000  \n",
       "mean       0.048063      0.537441  \n",
       "std        0.188588      1.555028  \n",
       "min        0.000000      0.010000  \n",
       "25%        0.000000      0.060000  \n",
       "50%        0.010000      0.170000  \n",
       "75%        0.040000      0.470000  \n",
       "max       10.570000     82.740000  "
      ]
     },
     "execution_count": 5,
     "metadata": {},
     "output_type": "execute_result"
    }
   ],
   "source": [
    "# Get a snapshot of the data's central tendencies \n",
    "df.describe()"
   ]
  },
  {
   "cell_type": "code",
   "execution_count": 6,
   "metadata": {
    "execution": {
     "iopub.execute_input": "2020-08-22T06:33:44.802232Z",
     "iopub.status.busy": "2020-08-22T06:33:44.801452Z",
     "iopub.status.idle": "2020-08-22T06:33:45.152452Z",
     "shell.execute_reply": "2020-08-22T06:33:45.151835Z"
    },
    "papermill": {
     "duration": 0.371759,
     "end_time": "2020-08-22T06:33:45.152586",
     "exception": false,
     "start_time": "2020-08-22T06:33:44.780827",
     "status": "completed"
    },
    "tags": []
   },
   "outputs": [
    {
     "data": {
      "text/plain": [
       "Text(0.5, 1.0, 'Distribution of Global Sales for Video Games')"
      ]
     },
     "execution_count": 6,
     "metadata": {},
     "output_type": "execute_result"
    },
    {
     "data": {
      "image/png": "[encoded data removed]",
      "text/plain": [
       "<Figure size 720x360 with 1 Axes>"
      ]
     },
     "metadata": {
      "needs_background": "light"
     },
     "output_type": "display_data"
    }
   ],
   "source": [
    "# Let's see how the Global Sales are distritubed for all the data \n",
    "f,ax=plt.subplots(figsize=(10,5))\n",
    "sns.distplot(df['Global_Sales'])\n",
    "plt.title(\"Distribution of Global Sales for Video Games\")\n"
   ]
  },
  {
   "cell_type": "code",
   "execution_count": 7,
   "metadata": {
    "execution": {
     "iopub.execute_input": "2020-08-22T06:33:45.189768Z",
     "iopub.status.busy": "2020-08-22T06:33:45.188972Z",
     "iopub.status.idle": "2020-08-22T06:33:45.195965Z",
     "shell.execute_reply": "2020-08-22T06:33:45.195098Z"
    },
    "papermill": {
     "duration": 0.028514,
     "end_time": "2020-08-22T06:33:45.196138",
     "exception": false,
     "start_time": "2020-08-22T06:33:45.167624",
     "status": "completed"
    },
    "tags": []
   },
   "outputs": [
    {
     "name": "stdout",
     "output_type": "stream",
     "text": [
      "Skewness: 17.400645097552452\n",
      "Kurtosis: 603.9323461595934\n"
     ]
    }
   ],
   "source": [
    "# Calculate Skewness and Kurtosis \n",
    "print (\"Skewness: \" + str(df['Global_Sales'].skew()))\n",
    "print (\"Kurtosis: \"+str(df['Global_Sales'].kurtosis()))"
   ]
  },
  {
   "cell_type": "markdown",
   "execution_count": null,
   "metadata": {
    "papermill": {
     "duration": 0.014952,
     "end_time": "2020-08-22T06:33:45.227035",
     "exception": false,
     "start_time": "2020-08-22T06:33:45.212083",
     "status": "completed"
    },
    "tags": []
   },
   "source": [
    "We can see from the plot above that the Global Sales for video games is significantly right skewed with a heavy tail. This may indicate that most video games are quite relatively unsuccessful, however there are few that really break out and have a ton of success. \n",
    "\n",
    "In addition to this, the large value for Kurtosis indicates the presence of outliers. This is something we will need to consider later when making our model."
   ]
  },
  {
   "cell_type": "code",
   "execution_count": null,
   "metadata": {
    "papermill": {
     "duration": 0.015066,
     "end_time": "2020-08-22T06:33:45.257717",
     "exception": false,
     "start_time": "2020-08-22T06:33:45.242651",
     "status": "completed"
    },
    "tags": []
   },
   "outputs": [],
   "source": []
  },
  {
   "cell_type": "markdown",
   "execution_count": null,
   "metadata": {
    "papermill": {
     "duration": 0.014995,
     "end_time": "2020-08-22T06:33:45.288028",
     "exception": false,
     "start_time": "2020-08-22T06:33:45.273033",
     "status": "completed"
    },
    "tags": []
   },
   "source": [
    "# **Exploring the breakdown of all the numerical and categorical variables**\n",
    "\n",
    "\n",
    "## Numerical Variables:\n",
    "\n",
    "* We will create distribution plots to see how each of these are spread out in our dataset.\n",
    "* We will analyse the correlation between these variables \n",
    "\n",
    "## Categorical Variables:\n",
    "* We will create bar charts to see the distrbution of the data broken down by different variables "
   ]
  },
  {
   "cell_type": "code",
   "execution_count": 8,
   "metadata": {
    "execution": {
     "iopub.execute_input": "2020-08-22T06:33:45.335495Z",
     "iopub.status.busy": "2020-08-22T06:33:45.334172Z",
     "iopub.status.idle": "2020-08-22T06:33:46.763343Z",
     "shell.execute_reply": "2020-08-22T06:33:46.762604Z"
    },
    "papermill": {
     "duration": 1.460352,
     "end_time": "2020-08-22T06:33:46.763495",
     "exception": false,
     "start_time": "2020-08-22T06:33:45.303143",
     "status": "completed"
    },
    "tags": []
   },
   "outputs": [
    {
     "data": {
      "image/png": "[encoded data removed]",
      "text/plain": [
       "<Figure size 360x360 with 1 Axes>"
      ]
     },
     "metadata": {
      "needs_background": "light"
     },
     "output_type": "display_data"
    },
    {
     "data": {
      "image/png": "[encoded data removed]",
      "text/plain": [
       "<Figure size 360x360 with 1 Axes>"
      ]
     },
     "metadata": {
      "needs_background": "light"
     },
     "output_type": "display_data"
    },
    {
     "data": {
      "image/png": "[encoded data removed]",
      "text/plain": [
       "<Figure size 360x360 with 1 Axes>"
      ]
     },
     "metadata": {
      "needs_background": "light"
     },
     "output_type": "display_data"
    },
    {
     "data": {
      "image/png": "[encoded data removed]",
      "text/plain": [
       "<Figure size 360x360 with 1 Axes>"
      ]
     },
     "metadata": {
      "needs_background": "light"
     },
     "output_type": "display_data"
    },
    {
     "data": {
      "image/png": "[encoded data removed]",
      "text/plain": [
       "<Figure size 360x360 with 1 Axes>"
      ]
     },
     "metadata": {
      "needs_background": "light"
     },
     "output_type": "display_data"
    }
   ],
   "source": [
    "#Numerical Variables \n",
    "num= ['Year','NA_Sales','EU_Sales', 'JP_Sales', 'Other_Sales', 'Global_Sales']\n",
    "df_num=df[num]\n",
    "for var in df_num:\n",
    "    if var!='Global_Sales':\n",
    "        f,ax=plt.subplots(figsize=(5,5))\n",
    "        sns.distplot(df_num[var])\n"
   ]
  },
  {
   "cell_type": "code",
   "execution_count": 9,
   "metadata": {
    "execution": {
     "iopub.execute_input": "2020-08-22T06:33:46.803909Z",
     "iopub.status.busy": "2020-08-22T06:33:46.803148Z",
     "iopub.status.idle": "2020-08-22T06:33:46.816565Z",
     "shell.execute_reply": "2020-08-22T06:33:46.815886Z"
    },
    "papermill": {
     "duration": 0.036735,
     "end_time": "2020-08-22T06:33:46.816699",
     "exception": false,
     "start_time": "2020-08-22T06:33:46.779964",
     "status": "completed"
    },
    "tags": []
   },
   "outputs": [
    {
     "name": "stdout",
     "output_type": "stream",
     "text": [
      "Skewness for Year is: -1.002560494621347\n",
      "Kurtosis for Year is: 1.8481805519965588\n",
      "Skewness for NA_Sales is: 18.799627403792297\n",
      "Kurtosis for NA_Sales is: 649.1302677259322\n",
      "Skewness for EU_Sales is: 18.875535100538038\n",
      "Kurtosis for EU_Sales is: 756.0277957655502\n",
      "Skewness for JP_Sales is: 11.206458372215543\n",
      "Kurtosis for JP_Sales is: 194.23399366140464\n",
      "Skewness for Other_Sales is: 24.233922531429613\n",
      "Kurtosis for Other_Sales is: 1025.3481445011175\n"
     ]
    }
   ],
   "source": [
    "#Calculate Skewness and Kurtosis for each numerical variable\n",
    "for var in df_num: \n",
    "    if var != \"Global_Sales\":\n",
    "        print ('Skewness for '+ var + ' is: '+ str(df[var].skew()))\n",
    "        print ('Kurtosis for '+ var + ' is: '+ str(df[var].kurtosis()))"
   ]
  },
  {
   "cell_type": "code",
   "execution_count": 10,
   "metadata": {
    "execution": {
     "iopub.execute_input": "2020-08-22T06:33:46.856334Z",
     "iopub.status.busy": "2020-08-22T06:33:46.855439Z",
     "iopub.status.idle": "2020-08-22T06:33:47.231991Z",
     "shell.execute_reply": "2020-08-22T06:33:47.231232Z"
    },
    "papermill": {
     "duration": 0.398914,
     "end_time": "2020-08-22T06:33:47.232120",
     "exception": false,
     "start_time": "2020-08-22T06:33:46.833206",
     "status": "completed"
    },
    "tags": []
   },
   "outputs": [
    {
     "data": {
      "text/plain": [
       "<matplotlib.axes._subplots.AxesSubplot at 0x7f251af03f10>"
      ]
     },
     "execution_count": 10,
     "metadata": {},
     "output_type": "execute_result"
    },
    {
     "data": {
      "image/png": "[encoded data removed]",
      "text/plain": [
       "<Figure size 432x288 with 2 Axes>"
      ]
     },
     "metadata": {
      "needs_background": "light"
     },
     "output_type": "display_data"
    }
   ],
   "source": [
    "#Calculate Correlation between numeric variables\n",
    "sns.heatmap(df_num.corr(),annot=True,cmap=\"YlGnBu\")"
   ]
  },
  {
   "cell_type": "code",
   "execution_count": 11,
   "metadata": {
    "execution": {
     "iopub.execute_input": "2020-08-22T06:33:47.282895Z",
     "iopub.status.busy": "2020-08-22T06:33:47.276063Z",
     "iopub.status.idle": "2020-08-22T06:33:56.191724Z",
     "shell.execute_reply": "2020-08-22T06:33:56.190993Z"
    },
    "papermill": {
     "duration": 8.94262,
     "end_time": "2020-08-22T06:33:56.191859",
     "exception": false,
     "start_time": "2020-08-22T06:33:47.249239",
     "status": "completed"
    },
    "tags": []
   },
   "outputs": [
    {
     "data": {
      "image/png": "[encoded data removed]",
      "text/plain": [
       "<Figure size 1152x576 with 1 Axes>"
      ]
     },
     "metadata": {
      "needs_background": "light"
     },
     "output_type": "display_data"
    },
    {
     "data": {
      "image/png": "[encoded data removed]",
      "text/plain": [
       "<Figure size 1152x576 with 1 Axes>"
      ]
     },
     "metadata": {
      "needs_background": "light"
     },
     "output_type": "display_data"
    },
    {
     "data": {
      "image/png": "[encoded data removed]",
      "text/plain": [
       "<Figure size 1152x576 with 1 Axes>"
      ]
     },
     "metadata": {
      "needs_background": "light"
     },
     "output_type": "display_data"
    }
   ],
   "source": [
    "#Categorical Variables\n",
    "cat=['Platform','Genre', 'Publisher']\n",
    "df_cat=df[cat]\n",
    "for var in df_cat:\n",
    "    f,ax=plt.subplots(figsize=(16,8))\n",
    "    sns.barplot(df_cat[var].value_counts().index,df_cat[var].value_counts()).set_title('Distrubution of ' + var)\n",
    "    plt.xlabel(var)\n",
    "    plt.ylabel('Frequency')\n",
    "    plt.show()"
   ]
  },
  {
   "cell_type": "markdown",
   "execution_count": null,
   "metadata": {
    "papermill": {
     "duration": 0.01758,
     "end_time": "2020-08-22T06:33:56.227616",
     "exception": false,
     "start_time": "2020-08-22T06:33:56.210036",
     "status": "completed"
    },
    "tags": []
   },
   "source": [
    "Some of the categorical variables are quite messy. Therefore, we may want to do some feature engineering to get a better representation of this in our model."
   ]
  },
  {
   "cell_type": "markdown",
   "execution_count": null,
   "metadata": {
    "papermill": {
     "duration": 0.017606,
     "end_time": "2020-08-22T06:33:56.263429",
     "exception": false,
     "start_time": "2020-08-22T06:33:56.245823",
     "status": "completed"
    },
    "tags": []
   },
   "source": [
    "# Exploratory Data Analysis\n",
    "\n",
    "We shall explore some key themes in this dataset:\n",
    "\n",
    "1. Sales across different platforms \n",
    "2. Sales over the years\n",
    "3. Genres that are the best selling\n",
    "4. Most successful publishers\n",
    "5. Comparing the sales data for games in the total series (FIFA, Call of Duty, GTA, etc.)\n",
    "6. Console vs. Portable Device Video Game Sales"
   ]
  },
  {
   "cell_type": "code",
   "execution_count": 12,
   "metadata": {
    "execution": {
     "iopub.execute_input": "2020-08-22T06:33:56.314472Z",
     "iopub.status.busy": "2020-08-22T06:33:56.313615Z",
     "iopub.status.idle": "2020-08-22T06:33:57.024939Z",
     "shell.execute_reply": "2020-08-22T06:33:57.025512Z"
    },
    "papermill": {
     "duration": 0.744402,
     "end_time": "2020-08-22T06:33:57.025680",
     "exception": false,
     "start_time": "2020-08-22T06:33:56.281278",
     "status": "completed"
    },
    "tags": []
   },
   "outputs": [
    {
     "data": {
      "image/png": "[encoded data removed]",
      "text/plain": [
       "<Figure size 1296x432 with 1 Axes>"
      ]
     },
     "metadata": {
      "needs_background": "light"
     },
     "output_type": "display_data"
    },
    {
     "name": "stderr",
     "output_type": "stream",
     "text": [
      "/opt/conda/lib/python3.7/site-packages/ipykernel_launcher.py:7: FutureWarning: Indexing with multiple keys (implicitly converted to a tuple of keys) will be deprecated, use a list instead.\n",
      "  import sys\n"
     ]
    },
    {
     "data": {
      "text/html": [
       "<div>\n",
       "<style scoped>\n",
       "    .dataframe tbody tr th:only-of-type {\n",
       "        vertical-align: middle;\n",
       "    }\n",
       "\n",
       "    .dataframe tbody tr th {\n",
       "        vertical-align: top;\n",
       "    }\n",
       "\n",
       "    .dataframe thead th {\n",
       "        text-align: right;\n",
       "    }\n",
       "</style>\n",
       "<table border=\"1\" class=\"dataframe\">\n",
       "  <thead>\n",
       "    <tr style=\"text-align: right;\">\n",
       "      <th></th>\n",
       "      <th>Platform</th>\n",
       "      <th>Global_Sales</th>\n",
       "    </tr>\n",
       "  </thead>\n",
       "  <tbody>\n",
       "    <tr>\n",
       "      <th>0</th>\n",
       "      <td>GB</td>\n",
       "      <td>2.606633</td>\n",
       "    </tr>\n",
       "    <tr>\n",
       "      <th>1</th>\n",
       "      <td>NES</td>\n",
       "      <td>2.561939</td>\n",
       "    </tr>\n",
       "    <tr>\n",
       "      <th>2</th>\n",
       "      <td>GEN</td>\n",
       "      <td>1.050370</td>\n",
       "    </tr>\n",
       "    <tr>\n",
       "      <th>3</th>\n",
       "      <td>SNES</td>\n",
       "      <td>0.837029</td>\n",
       "    </tr>\n",
       "    <tr>\n",
       "      <th>4</th>\n",
       "      <td>PS4</td>\n",
       "      <td>0.827679</td>\n",
       "    </tr>\n",
       "    <tr>\n",
       "      <th>5</th>\n",
       "      <td>X360</td>\n",
       "      <td>0.774672</td>\n",
       "    </tr>\n",
       "    <tr>\n",
       "      <th>6</th>\n",
       "      <td>2600</td>\n",
       "      <td>0.729925</td>\n",
       "    </tr>\n",
       "    <tr>\n",
       "      <th>7</th>\n",
       "      <td>PS3</td>\n",
       "      <td>0.720722</td>\n",
       "    </tr>\n",
       "    <tr>\n",
       "      <th>8</th>\n",
       "      <td>Wii</td>\n",
       "      <td>0.699404</td>\n",
       "    </tr>\n",
       "    <tr>\n",
       "      <th>9</th>\n",
       "      <td>N64</td>\n",
       "      <td>0.686144</td>\n",
       "    </tr>\n",
       "    <tr>\n",
       "      <th>10</th>\n",
       "      <td>XOne</td>\n",
       "      <td>0.662254</td>\n",
       "    </tr>\n",
       "    <tr>\n",
       "      <th>11</th>\n",
       "      <td>PS</td>\n",
       "      <td>0.610920</td>\n",
       "    </tr>\n",
       "    <tr>\n",
       "      <th>12</th>\n",
       "      <td>PS2</td>\n",
       "      <td>0.581046</td>\n",
       "    </tr>\n",
       "    <tr>\n",
       "      <th>13</th>\n",
       "      <td>WiiU</td>\n",
       "      <td>0.572448</td>\n",
       "    </tr>\n",
       "    <tr>\n",
       "      <th>14</th>\n",
       "      <td>3DS</td>\n",
       "      <td>0.486169</td>\n",
       "    </tr>\n",
       "    <tr>\n",
       "      <th>15</th>\n",
       "      <td>GBA</td>\n",
       "      <td>0.387470</td>\n",
       "    </tr>\n",
       "    <tr>\n",
       "      <th>16</th>\n",
       "      <td>DS</td>\n",
       "      <td>0.380254</td>\n",
       "    </tr>\n",
       "    <tr>\n",
       "      <th>17</th>\n",
       "      <td>GC</td>\n",
       "      <td>0.358561</td>\n",
       "    </tr>\n",
       "    <tr>\n",
       "      <th>18</th>\n",
       "      <td>XB</td>\n",
       "      <td>0.313422</td>\n",
       "    </tr>\n",
       "    <tr>\n",
       "      <th>19</th>\n",
       "      <td>SCD</td>\n",
       "      <td>0.311667</td>\n",
       "    </tr>\n",
       "    <tr>\n",
       "      <th>20</th>\n",
       "      <td>DC</td>\n",
       "      <td>0.307115</td>\n",
       "    </tr>\n",
       "    <tr>\n",
       "      <th>21</th>\n",
       "      <td>PC</td>\n",
       "      <td>0.269604</td>\n",
       "    </tr>\n",
       "    <tr>\n",
       "      <th>22</th>\n",
       "      <td>PSP</td>\n",
       "      <td>0.244254</td>\n",
       "    </tr>\n",
       "    <tr>\n",
       "      <th>23</th>\n",
       "      <td>WS</td>\n",
       "      <td>0.236667</td>\n",
       "    </tr>\n",
       "    <tr>\n",
       "      <th>24</th>\n",
       "      <td>SAT</td>\n",
       "      <td>0.194162</td>\n",
       "    </tr>\n",
       "    <tr>\n",
       "      <th>25</th>\n",
       "      <td>PSV</td>\n",
       "      <td>0.149952</td>\n",
       "    </tr>\n",
       "    <tr>\n",
       "      <th>26</th>\n",
       "      <td>NG</td>\n",
       "      <td>0.120000</td>\n",
       "    </tr>\n",
       "    <tr>\n",
       "      <th>27</th>\n",
       "      <td>TG16</td>\n",
       "      <td>0.080000</td>\n",
       "    </tr>\n",
       "    <tr>\n",
       "      <th>28</th>\n",
       "      <td>GG</td>\n",
       "      <td>0.040000</td>\n",
       "    </tr>\n",
       "    <tr>\n",
       "      <th>29</th>\n",
       "      <td>3DO</td>\n",
       "      <td>0.033333</td>\n",
       "    </tr>\n",
       "    <tr>\n",
       "      <th>30</th>\n",
       "      <td>PCFX</td>\n",
       "      <td>0.030000</td>\n",
       "    </tr>\n",
       "  </tbody>\n",
       "</table>\n",
       "</div>"
      ],
      "text/plain": [
       "   Platform  Global_Sales\n",
       "0        GB      2.606633\n",
       "1       NES      2.561939\n",
       "2       GEN      1.050370\n",
       "3      SNES      0.837029\n",
       "4       PS4      0.827679\n",
       "5      X360      0.774672\n",
       "6      2600      0.729925\n",
       "7       PS3      0.720722\n",
       "8       Wii      0.699404\n",
       "9       N64      0.686144\n",
       "10     XOne      0.662254\n",
       "11       PS      0.610920\n",
       "12      PS2      0.581046\n",
       "13     WiiU      0.572448\n",
       "14      3DS      0.486169\n",
       "15      GBA      0.387470\n",
       "16       DS      0.380254\n",
       "17       GC      0.358561\n",
       "18       XB      0.313422\n",
       "19      SCD      0.311667\n",
       "20       DC      0.307115\n",
       "21       PC      0.269604\n",
       "22      PSP      0.244254\n",
       "23       WS      0.236667\n",
       "24      SAT      0.194162\n",
       "25      PSV      0.149952\n",
       "26       NG      0.120000\n",
       "27     TG16      0.080000\n",
       "28       GG      0.040000\n",
       "29      3DO      0.033333\n",
       "30     PCFX      0.030000"
      ]
     },
     "execution_count": 12,
     "metadata": {},
     "output_type": "execute_result"
    }
   ],
   "source": [
    "# Sales across different platforms:\n",
    "f,ax=plt.subplots(figsize=(18,6))\n",
    "sns.boxplot(df['Platform'],df['Global_Sales'])\n",
    "plt.show()\n",
    "\n",
    "#Calculate average sale price for each platform:\n",
    "df2=df.groupby(['Platform'])['Platform','Global_Sales'].mean().sort_values(by='Global_Sales', ascending=False).reset_index()\n",
    "df2"
   ]
  },
  {
   "cell_type": "code",
   "execution_count": 13,
   "metadata": {
    "execution": {
     "iopub.execute_input": "2020-08-22T06:33:57.071617Z",
     "iopub.status.busy": "2020-08-22T06:33:57.070804Z",
     "iopub.status.idle": "2020-08-22T06:33:57.307107Z",
     "shell.execute_reply": "2020-08-22T06:33:57.306298Z"
    },
    "papermill": {
     "duration": 0.262783,
     "end_time": "2020-08-22T06:33:57.307244",
     "exception": false,
     "start_time": "2020-08-22T06:33:57.044461",
     "status": "completed"
    },
    "tags": []
   },
   "outputs": [
    {
     "name": "stdout",
     "output_type": "stream",
     "text": [
      "      Year  Global_Sales\n",
      "0   1989.0      4.320588\n",
      "1   1985.0      3.852857\n",
      "2   1984.0      3.597143\n",
      "3   1988.0      3.148000\n",
      "4   1990.0      3.086875\n",
      "5   1992.0      1.771163\n",
      "6   1986.0      1.765238\n",
      "7   1987.0      1.358750\n",
      "8   1980.0      1.264444\n",
      "9   1983.0      0.987647\n",
      "10  1982.0      0.801667\n",
      "11  1991.0      0.786098\n",
      "12  1981.0      0.777609\n",
      "13  1993.0      0.766333\n",
      "14  1996.0      0.757224\n",
      "15  1999.0      0.743402\n",
      "16  1997.0      0.695433\n",
      "17  2001.0      0.687697\n",
      "18  1998.0      0.676702\n",
      "19  2013.0      0.674194\n",
      "20  1994.0      0.654298\n",
      "21  2014.0      0.579124\n",
      "22  2000.0      0.577536\n",
      "23  2012.0      0.553333\n",
      "24  2004.0      0.549554\n",
      "25  2006.0      0.516905\n",
      "26  2007.0      0.508428\n",
      "27  2005.0      0.488778\n",
      "28  2002.0      0.477105\n",
      "29  2010.0      0.476926\n",
      "30  2008.0      0.475420\n",
      "31  2009.0      0.466317\n",
      "32  2003.0      0.461742\n",
      "33  2011.0      0.453020\n",
      "34  2015.0      0.430684\n",
      "35  1995.0      0.402329\n",
      "36  2020.0      0.290000\n",
      "37  2016.0      0.206192\n",
      "38  2017.0      0.016667\n"
     ]
    },
    {
     "data": {
      "text/plain": [
       "<matplotlib.collections.PathCollection at 0x7f2519af7b50>"
      ]
     },
     "execution_count": 13,
     "metadata": {},
     "output_type": "execute_result"
    },
    {
     "data": {
      "image/png": "[encoded data removed]",
      "text/plain": [
       "<Figure size 1296x432 with 1 Axes>"
      ]
     },
     "metadata": {
      "needs_background": "light"
     },
     "output_type": "display_data"
    }
   ],
   "source": [
    "# Sales over the years \n",
    "df3 =df.groupby(['Year'])['Global_Sales'].mean().sort_values(ascending=False).reset_index()\n",
    "print(df3)\n",
    "\n",
    "# Scatter Plot\n",
    "f,ax=plt.subplots(figsize=(18,6))\n",
    "plt.scatter(df['Year'],df['Global_Sales'])\n"
   ]
  },
  {
   "cell_type": "code",
   "execution_count": 14,
   "metadata": {
    "execution": {
     "iopub.execute_input": "2020-08-22T06:33:57.358414Z",
     "iopub.status.busy": "2020-08-22T06:33:57.357167Z",
     "iopub.status.idle": "2020-08-22T06:33:57.963031Z",
     "shell.execute_reply": "2020-08-22T06:33:57.962167Z"
    },
    "papermill": {
     "duration": 0.636346,
     "end_time": "2020-08-22T06:33:57.963184",
     "exception": false,
     "start_time": "2020-08-22T06:33:57.326838",
     "status": "completed"
    },
    "tags": []
   },
   "outputs": [
    {
     "name": "stdout",
     "output_type": "stream",
     "text": [
      "           Genre  Global_Sales\n",
      "0       Platform      0.938341\n",
      "1        Shooter      0.791885\n",
      "2   Role-Playing      0.623233\n",
      "3         Racing      0.586101\n",
      "4         Sports      0.567319\n",
      "5       Fighting      0.529375\n",
      "6         Action      0.528100\n",
      "7           Misc      0.465762\n",
      "8     Simulation      0.452364\n",
      "9         Puzzle      0.420876\n",
      "10      Strategy      0.257151\n",
      "11     Adventure      0.185879\n"
     ]
    },
    {
     "name": "stderr",
     "output_type": "stream",
     "text": [
      "/opt/conda/lib/python3.7/site-packages/ipykernel_launcher.py:2: FutureWarning: Indexing with multiple keys (implicitly converted to a tuple of keys) will be deprecated, use a list instead.\n",
      "  \n"
     ]
    },
    {
     "data": {
      "text/plain": [
       "(0.0, 10.0)"
      ]
     },
     "execution_count": 14,
     "metadata": {},
     "output_type": "execute_result"
    },
    {
     "data": {
      "image/png": "[encoded data removed]",
      "text/plain": [
       "<Figure size 1296x432 with 1 Axes>"
      ]
     },
     "metadata": {
      "needs_background": "light"
     },
     "output_type": "display_data"
    }
   ],
   "source": [
    "# Best Selling Genres:\n",
    "df4 =df.groupby(['Genre'])['Genre','Global_Sales'].mean().sort_values(by='Global_Sales', ascending=False).reset_index()\n",
    "print(df4)\n",
    "\n",
    "# Boxplot comparison between genres\n",
    "f,ax=plt.subplots(figsize=(18,6))\n",
    "sns.boxplot(df['Genre'],df['Global_Sales'])\n",
    "plt.ylim([0,10])"
   ]
  },
  {
   "cell_type": "code",
   "execution_count": 15,
   "metadata": {
    "execution": {
     "iopub.execute_input": "2020-08-22T06:33:58.018932Z",
     "iopub.status.busy": "2020-08-22T06:33:58.017764Z",
     "iopub.status.idle": "2020-08-22T06:34:12.499292Z",
     "shell.execute_reply": "2020-08-22T06:34:12.498693Z"
    },
    "papermill": {
     "duration": 14.515414,
     "end_time": "2020-08-22T06:34:12.499449",
     "exception": false,
     "start_time": "2020-08-22T06:33:57.984035",
     "status": "completed"
    },
    "tags": []
   },
   "outputs": [
    {
     "name": "stderr",
     "output_type": "stream",
     "text": [
      "/opt/conda/lib/python3.7/site-packages/ipykernel_launcher.py:2: FutureWarning: Indexing with multiple keys (implicitly converted to a tuple of keys) will be deprecated, use a list instead.\n",
      "  \n"
     ]
    },
    {
     "name": "stdout",
     "output_type": "stream",
     "text": [
      "                            Publisher  Global_Sales\n",
      "0                              Palcom      4.170000\n",
      "1                             Red Orb      2.620000\n",
      "2                            Nintendo      2.541337\n",
      "3                 Arena Entertainment      2.360000\n",
      "4                         UEP Systems      2.250000\n",
      "5                           RedOctane      2.170000\n",
      "6                               Valve      1.740000\n",
      "7                         Hello Games      1.600000\n",
      "8  Sony Computer Entertainment Europe      1.592667\n",
      "9                    Westwood Studios      1.550000\n"
     ]
    },
    {
     "data": {
      "text/plain": [
       "<matplotlib.axes._subplots.AxesSubplot at 0x7f2519d746d0>"
      ]
     },
     "execution_count": 15,
     "metadata": {},
     "output_type": "execute_result"
    },
    {
     "data": {
      "image/png": "[encoded data removed]",
      "text/plain": [
       "<Figure size 1296x432 with 1 Axes>"
      ]
     },
     "metadata": {
      "needs_background": "light"
     },
     "output_type": "display_data"
    }
   ],
   "source": [
    "# Most Successful Publishers:\n",
    "df5 =df.groupby(['Publisher'])['Publisher','Global_Sales'].mean().sort_values(by='Global_Sales', ascending=False).reset_index()\n",
    "print(df5.head(10))\n",
    "\n",
    "# Boxplot comparing Publishers:\n",
    "f,ax=plt.subplots(figsize=(18,6))\n",
    "sns.boxplot(df['Publisher'],df['Global_Sales'])"
   ]
  },
  {
   "cell_type": "code",
   "execution_count": 16,
   "metadata": {
    "execution": {
     "iopub.execute_input": "2020-08-22T06:34:12.572561Z",
     "iopub.status.busy": "2020-08-22T06:34:12.570476Z",
     "iopub.status.idle": "2020-08-22T06:34:14.208394Z",
     "shell.execute_reply": "2020-08-22T06:34:14.207763Z"
    },
    "papermill": {
     "duration": 1.688343,
     "end_time": "2020-08-22T06:34:14.208535",
     "exception": false,
     "start_time": "2020-08-22T06:34:12.520192",
     "status": "completed"
    },
    "tags": []
   },
   "outputs": [
    {
     "data": {
      "image/png": "[encoded data removed]",
      "text/plain": [
       "<Figure size 1152x360 with 1 Axes>"
      ]
     },
     "metadata": {
      "needs_background": "light"
     },
     "output_type": "display_data"
    },
    {
     "data": {
      "image/png": "[encoded data removed]",
      "text/plain": [
       "<Figure size 1152x360 with 1 Axes>"
      ]
     },
     "metadata": {
      "needs_background": "light"
     },
     "output_type": "display_data"
    },
    {
     "data": {
      "image/png": "[encoded data removed]",
      "text/plain": [
       "<Figure size 1152x360 with 1 Axes>"
      ]
     },
     "metadata": {
      "needs_background": "light"
     },
     "output_type": "display_data"
    },
    {
     "data": {
      "image/png": "[encoded data removed]",
      "text/plain": [
       "<Figure size 1152x360 with 1 Axes>"
      ]
     },
     "metadata": {
      "needs_background": "light"
     },
     "output_type": "display_data"
    },
    {
     "data": {
      "image/png": "[encoded data removed]",
      "text/plain": [
       "<Figure size 1152x360 with 1 Axes>"
      ]
     },
     "metadata": {
      "needs_background": "light"
     },
     "output_type": "display_data"
    },
    {
     "data": {
      "image/png": "[encoded data removed]",
      "text/plain": [
       "<Figure size 1152x360 with 1 Axes>"
      ]
     },
     "metadata": {
      "needs_background": "light"
     },
     "output_type": "display_data"
    },
    {
     "data": {
      "image/png": "[encoded data removed]",
      "text/plain": [
       "<Figure size 1152x360 with 1 Axes>"
      ]
     },
     "metadata": {
      "needs_background": "light"
     },
     "output_type": "display_data"
    },
    {
     "data": {
      "image/png": "[encoded data removed]",
      "text/plain": [
       "<Figure size 1152x360 with 1 Axes>"
      ]
     },
     "metadata": {
      "needs_background": "light"
     },
     "output_type": "display_data"
    }
   ],
   "source": [
    "# Comparing Sales of Major Game Series\n",
    "series=['Fifa','Mario','Call of Duty','Grand Theft Auto', 'Pokemon','Halo','Wii','NBA']\n",
    "\n",
    "for ser in series:\n",
    "    M = df[df['Name'].str.contains(ser, regex=False, case=False, na=False)].copy()\n",
    "    f,ax=plt.subplots(figsize=(16,5))\n",
    "    plt.scatter(M['Year'],M['Global_Sales'])\n",
    "    plt.title(ser+' Sales Over Time')\n",
    "    plt.xlabel('Year')\n",
    "    plt.ylabel('Global Sales')\n",
    "    plt.show()\n",
    "\n"
   ]
  },
  {
   "cell_type": "code",
   "execution_count": 17,
   "metadata": {
    "execution": {
     "iopub.execute_input": "2020-08-22T06:34:14.285901Z",
     "iopub.status.busy": "2020-08-22T06:34:14.285121Z",
     "iopub.status.idle": "2020-08-22T06:34:14.422816Z",
     "shell.execute_reply": "2020-08-22T06:34:14.422014Z"
    },
    "papermill": {
     "duration": 0.190591,
     "end_time": "2020-08-22T06:34:14.422949",
     "exception": false,
     "start_time": "2020-08-22T06:34:14.232358",
     "status": "completed"
    },
    "tags": []
   },
   "outputs": [
    {
     "name": "stdout",
     "output_type": "stream",
     "text": [
      "The Median For Fifa Series is 0.52, its Correlation with Years is 0.32\n",
      "The Median For Mario Series is 2.27, its Correlation with Years is -0.24\n",
      "The Median For Call of Duty Series is 1.74, its Correlation with Years is 0.18\n",
      "The Median For Grand Theft Auto Series is 2.41, its Correlation with Years is 0.25\n",
      "The Median For Pokemon Series is 1.61, its Correlation with Years is -0.28\n",
      "The Median For Halo Series is 3.71, its Correlation with Years is 0.13\n",
      "The Median For Wii Series is 0.29, its Correlation with Years is -0.17\n",
      "The Median For NBA Series is 0.32, its Correlation with Years is -0.0\n"
     ]
    }
   ],
   "source": [
    "# Compare average sales for each major game series\n",
    "series=['Fifa','Mario','Call of Duty','Grand Theft Auto', 'Pokemon','Halo','Wii','NBA']\n",
    "for ser in series:\n",
    "    game_series={}\n",
    "    M = df[df['Name'].str.contains(ser, regex=False, case=False, na=False)].copy()\n",
    "    average= round(M['Global_Sales'].median(),2)\n",
    "    correlation=M['Global_Sales'].corr(M['Year'])\n",
    "    rounded_corr=round(correlation,2)\n",
    "    print('The Median For {} Series is {}, its Correlation with Years is {}'.format(ser,average,rounded_corr))"
   ]
  },
  {
   "cell_type": "code",
   "execution_count": 18,
   "metadata": {
    "execution": {
     "iopub.execute_input": "2020-08-22T06:34:14.712124Z",
     "iopub.status.busy": "2020-08-22T06:34:14.711046Z",
     "iopub.status.idle": "2020-08-22T06:34:15.410874Z",
     "shell.execute_reply": "2020-08-22T06:34:15.411492Z"
    },
    "papermill": {
     "duration": 0.96568,
     "end_time": "2020-08-22T06:34:15.411668",
     "exception": false,
     "start_time": "2020-08-22T06:34:14.445988",
     "status": "completed"
    },
    "tags": []
   },
   "outputs": [
    {
     "name": "stdout",
     "output_type": "stream",
     "text": [
      "['Wii' 'NES' 'GB' 'DS' 'X360' 'PS3' 'PS2' 'SNES' 'GBA' '3DS' 'PS4' 'N64'\n",
      " 'PS' 'XB' 'PC' '2600' 'PSP' 'XOne' 'GC' 'WiiU' 'GEN' 'DC' 'PSV' 'SAT'\n",
      " 'SCD' 'WS' 'NG' 'TG16' '3DO' 'GG' 'PCFX']\n"
     ]
    },
    {
     "data": {
      "image/png": "[encoded data removed]",
      "text/plain": [
       "<Figure size 720x432 with 1 Axes>"
      ]
     },
     "metadata": {
      "needs_background": "light"
     },
     "output_type": "display_data"
    },
    {
     "name": "stdout",
     "output_type": "stream",
     "text": [
      "The Median Sales for Portable devices is 0.11\n"
     ]
    },
    {
     "data": {
      "image/png": "[encoded data removed]",
      "text/plain": [
       "<Figure size 720x432 with 1 Axes>"
      ]
     },
     "metadata": {
      "needs_background": "light"
     },
     "output_type": "display_data"
    },
    {
     "name": "stdout",
     "output_type": "stream",
     "text": [
      "The Median Sales for PC devices is 0.04\n"
     ]
    },
    {
     "data": {
      "image/png": "[encoded data removed]",
      "text/plain": [
       "<Figure size 720x432 with 1 Axes>"
      ]
     },
     "metadata": {
      "needs_background": "light"
     },
     "output_type": "display_data"
    },
    {
     "name": "stdout",
     "output_type": "stream",
     "text": [
      "The Median Sales for Console devices is 0.23\n"
     ]
    }
   ],
   "source": [
    "# Compare Type of Device Game Sales \n",
    "print(df['Platform'].unique())\n",
    "# 3 types: Portable, PC and Console\n",
    "PC=['PC']\n",
    "Portable = ['GB','DS','GBA','3DS','PSP','PSV','WS','GG']\n",
    "df_portable=df[(df.Platform =='GB')|(df.Platform =='DS')|(df.Platform =='GBA')|(df.Platform =='3DS')|(df.Platform =='PSP')|(df.Platform =='PSV')\n",
    "              |(df.Platform =='WS')|(df.Platform =='GG')]\n",
    "df_PC=df[(df.Platform=='PC')]\n",
    "\n",
    "df_console= df[(df.Platform =='Wii')|(df.Platform =='NES')|(df.Platform =='X360')|(df.Platform =='PS3')|(df.Platform =='PS2')|(df.Platform =='SNES')\n",
    "              |(df.Platform =='PS4')|(df.Platform =='N64')|(df.Platform =='PS')|(df.Platform =='XB')|(df.Platform =='2600')|(df.Platform =='XOne')\n",
    "             |(df.Platform =='GC')|(df.Platform =='WiiU')|(df.Platform =='GEN')|(df.Platform =='DC')\n",
    "            |(df.Platform =='SAT')|(df.Platform =='SCD')|(df.Platform =='NG')|(df.Platform =='TG16')|(df.Platform =='3DO')\n",
    "            |(df.Platform =='PCFX')]\n",
    "d={'Portable':df_portable,'PC': df_PC,'Console':df_console}\n",
    "for name,n in d.items():\n",
    "    f,ax=plt.subplots(figsize=(10,6))\n",
    "    plt.scatter(n['Year'],n['Global_Sales'])\n",
    "    plt.title(name + ' Device Sales Over Time')\n",
    "    plt.xlabel('Year')\n",
    "    plt.ylabel('Global Sales')\n",
    "    plt.show()\n",
    "    average= n['Global_Sales'].median()\n",
    "    print (\"The Median Sales for {} devices is {}\".format(name,average))\n",
    "\n",
    "\n"
   ]
  },
  {
   "cell_type": "markdown",
   "execution_count": null,
   "metadata": {
    "papermill": {
     "duration": 0.024138,
     "end_time": "2020-08-22T06:34:15.459731",
     "exception": false,
     "start_time": "2020-08-22T06:34:15.435593",
     "status": "completed"
    },
    "tags": []
   },
   "source": [
    "# **Feature Engineering**\n",
    "\n",
    "1. Whether it is released on a Console, Portable device or PC\n",
    "2. The game series it is apart of (We consider the ones we performed EDA on)\n",
    "3. Percentage of Total Sales Per Region\n"
   ]
  },
  {
   "cell_type": "code",
   "execution_count": 19,
   "metadata": {
    "execution": {
     "iopub.execute_input": "2020-08-22T06:34:15.514270Z",
     "iopub.status.busy": "2020-08-22T06:34:15.513345Z",
     "iopub.status.idle": "2020-08-22T06:34:15.518245Z",
     "shell.execute_reply": "2020-08-22T06:34:15.517491Z"
    },
    "papermill": {
     "duration": 0.034538,
     "end_time": "2020-08-22T06:34:15.518396",
     "exception": false,
     "start_time": "2020-08-22T06:34:15.483858",
     "status": "completed"
    },
    "tags": []
   },
   "outputs": [
    {
     "data": {
      "text/plain": [
       "16598"
      ]
     },
     "execution_count": 19,
     "metadata": {},
     "output_type": "execute_result"
    }
   ],
   "source": [
    "len(df['Platform'])"
   ]
  },
  {
   "cell_type": "code",
   "execution_count": 20,
   "metadata": {
    "execution": {
     "iopub.execute_input": "2020-08-22T06:34:15.617359Z",
     "iopub.status.busy": "2020-08-22T06:34:15.607079Z",
     "iopub.status.idle": "2020-08-22T06:34:15.917101Z",
     "shell.execute_reply": "2020-08-22T06:34:15.916460Z"
    },
    "papermill": {
     "duration": 0.374617,
     "end_time": "2020-08-22T06:34:15.917240",
     "exception": false,
     "start_time": "2020-08-22T06:34:15.542623",
     "status": "completed"
    },
    "tags": []
   },
   "outputs": [
    {
     "data": {
      "text/html": [
       "<div>\n",
       "<style scoped>\n",
       "    .dataframe tbody tr th:only-of-type {\n",
       "        vertical-align: middle;\n",
       "    }\n",
       "\n",
       "    .dataframe tbody tr th {\n",
       "        vertical-align: top;\n",
       "    }\n",
       "\n",
       "    .dataframe thead th {\n",
       "        text-align: right;\n",
       "    }\n",
       "</style>\n",
       "<table border=\"1\" class=\"dataframe\">\n",
       "  <thead>\n",
       "    <tr style=\"text-align: right;\">\n",
       "      <th></th>\n",
       "      <th>Rank</th>\n",
       "      <th>Name</th>\n",
       "      <th>Platform</th>\n",
       "      <th>Year</th>\n",
       "      <th>Genre</th>\n",
       "      <th>Publisher</th>\n",
       "      <th>NA_Sales</th>\n",
       "      <th>EU_Sales</th>\n",
       "      <th>JP_Sales</th>\n",
       "      <th>Other_Sales</th>\n",
       "      <th>Global_Sales</th>\n",
       "      <th>Device</th>\n",
       "    </tr>\n",
       "  </thead>\n",
       "  <tbody>\n",
       "    <tr>\n",
       "      <th>0</th>\n",
       "      <td>1</td>\n",
       "      <td>Wii Sports</td>\n",
       "      <td>Wii</td>\n",
       "      <td>2006.0</td>\n",
       "      <td>Sports</td>\n",
       "      <td>Nintendo</td>\n",
       "      <td>41.49</td>\n",
       "      <td>29.02</td>\n",
       "      <td>3.77</td>\n",
       "      <td>8.46</td>\n",
       "      <td>82.74</td>\n",
       "      <td>Console</td>\n",
       "    </tr>\n",
       "    <tr>\n",
       "      <th>1</th>\n",
       "      <td>2</td>\n",
       "      <td>Super Mario Bros.</td>\n",
       "      <td>NES</td>\n",
       "      <td>1985.0</td>\n",
       "      <td>Platform</td>\n",
       "      <td>Nintendo</td>\n",
       "      <td>29.08</td>\n",
       "      <td>3.58</td>\n",
       "      <td>6.81</td>\n",
       "      <td>0.77</td>\n",
       "      <td>40.24</td>\n",
       "      <td>Console</td>\n",
       "    </tr>\n",
       "    <tr>\n",
       "      <th>2</th>\n",
       "      <td>3</td>\n",
       "      <td>Mario Kart Wii</td>\n",
       "      <td>Wii</td>\n",
       "      <td>2008.0</td>\n",
       "      <td>Racing</td>\n",
       "      <td>Nintendo</td>\n",
       "      <td>15.85</td>\n",
       "      <td>12.88</td>\n",
       "      <td>3.79</td>\n",
       "      <td>3.31</td>\n",
       "      <td>35.82</td>\n",
       "      <td>Console</td>\n",
       "    </tr>\n",
       "    <tr>\n",
       "      <th>3</th>\n",
       "      <td>4</td>\n",
       "      <td>Wii Sports Resort</td>\n",
       "      <td>Wii</td>\n",
       "      <td>2009.0</td>\n",
       "      <td>Sports</td>\n",
       "      <td>Nintendo</td>\n",
       "      <td>15.75</td>\n",
       "      <td>11.01</td>\n",
       "      <td>3.28</td>\n",
       "      <td>2.96</td>\n",
       "      <td>33.00</td>\n",
       "      <td>Console</td>\n",
       "    </tr>\n",
       "    <tr>\n",
       "      <th>4</th>\n",
       "      <td>5</td>\n",
       "      <td>Pokemon Red/Pokemon Blue</td>\n",
       "      <td>GB</td>\n",
       "      <td>1996.0</td>\n",
       "      <td>Role-Playing</td>\n",
       "      <td>Nintendo</td>\n",
       "      <td>11.27</td>\n",
       "      <td>8.89</td>\n",
       "      <td>10.22</td>\n",
       "      <td>1.00</td>\n",
       "      <td>31.37</td>\n",
       "      <td>Portable</td>\n",
       "    </tr>\n",
       "  </tbody>\n",
       "</table>\n",
       "</div>"
      ],
      "text/plain": [
       "   Rank                      Name Platform    Year         Genre Publisher  \\\n",
       "0     1                Wii Sports      Wii  2006.0        Sports  Nintendo   \n",
       "1     2         Super Mario Bros.      NES  1985.0      Platform  Nintendo   \n",
       "2     3            Mario Kart Wii      Wii  2008.0        Racing  Nintendo   \n",
       "3     4         Wii Sports Resort      Wii  2009.0        Sports  Nintendo   \n",
       "4     5  Pokemon Red/Pokemon Blue       GB  1996.0  Role-Playing  Nintendo   \n",
       "\n",
       "   NA_Sales  EU_Sales  JP_Sales  Other_Sales  Global_Sales    Device  \n",
       "0     41.49     29.02      3.77         8.46         82.74   Console  \n",
       "1     29.08      3.58      6.81         0.77         40.24   Console  \n",
       "2     15.85     12.88      3.79         3.31         35.82   Console  \n",
       "3     15.75     11.01      3.28         2.96         33.00   Console  \n",
       "4     11.27      8.89     10.22         1.00         31.37  Portable  "
      ]
     },
     "execution_count": 20,
     "metadata": {},
     "output_type": "execute_result"
    }
   ],
   "source": [
    "#Console, Portable or PC\n",
    "Device=[]\n",
    "for i in range(0,16598):\n",
    "    if df['Platform'][i] in Portable:\n",
    "        Device.append('Portable')\n",
    "    elif df['Platform'][i] in PC:\n",
    "        Device.append('PC')\n",
    "    else:\n",
    "        Device.append('Console')\n",
    "df['Device']=Device\n",
    "df.head()\n",
    "        "
   ]
  },
  {
   "cell_type": "code",
   "execution_count": 21,
   "metadata": {
    "execution": {
     "iopub.execute_input": "2020-08-22T06:34:15.984105Z",
     "iopub.status.busy": "2020-08-22T06:34:15.981291Z",
     "iopub.status.idle": "2020-08-22T06:34:16.144052Z",
     "shell.execute_reply": "2020-08-22T06:34:16.143404Z"
    },
    "papermill": {
     "duration": 0.202139,
     "end_time": "2020-08-22T06:34:16.144220",
     "exception": false,
     "start_time": "2020-08-22T06:34:15.942081",
     "status": "completed"
    },
    "tags": []
   },
   "outputs": [
    {
     "data": {
      "text/html": [
       "<div>\n",
       "<style scoped>\n",
       "    .dataframe tbody tr th:only-of-type {\n",
       "        vertical-align: middle;\n",
       "    }\n",
       "\n",
       "    .dataframe tbody tr th {\n",
       "        vertical-align: top;\n",
       "    }\n",
       "\n",
       "    .dataframe thead th {\n",
       "        text-align: right;\n",
       "    }\n",
       "</style>\n",
       "<table border=\"1\" class=\"dataframe\">\n",
       "  <thead>\n",
       "    <tr style=\"text-align: right;\">\n",
       "      <th></th>\n",
       "      <th>Rank</th>\n",
       "      <th>Name</th>\n",
       "      <th>Platform</th>\n",
       "      <th>Year</th>\n",
       "      <th>Genre</th>\n",
       "      <th>Publisher</th>\n",
       "      <th>NA_Sales</th>\n",
       "      <th>EU_Sales</th>\n",
       "      <th>JP_Sales</th>\n",
       "      <th>Other_Sales</th>\n",
       "      <th>Global_Sales</th>\n",
       "      <th>Device</th>\n",
       "      <th>FIFA</th>\n",
       "      <th>Mario</th>\n",
       "      <th>Call of Duty</th>\n",
       "      <th>Grand Theft Auto</th>\n",
       "      <th>Pokemon</th>\n",
       "      <th>Halo</th>\n",
       "      <th>Wii</th>\n",
       "      <th>NBA</th>\n",
       "    </tr>\n",
       "  </thead>\n",
       "  <tbody>\n",
       "    <tr>\n",
       "      <th>0</th>\n",
       "      <td>1</td>\n",
       "      <td>Wii Sports</td>\n",
       "      <td>Wii</td>\n",
       "      <td>2006.0</td>\n",
       "      <td>Sports</td>\n",
       "      <td>Nintendo</td>\n",
       "      <td>41.49</td>\n",
       "      <td>29.02</td>\n",
       "      <td>3.77</td>\n",
       "      <td>8.46</td>\n",
       "      <td>82.74</td>\n",
       "      <td>Console</td>\n",
       "      <td>False</td>\n",
       "      <td>False</td>\n",
       "      <td>False</td>\n",
       "      <td>False</td>\n",
       "      <td>False</td>\n",
       "      <td>False</td>\n",
       "      <td>True</td>\n",
       "      <td>False</td>\n",
       "    </tr>\n",
       "    <tr>\n",
       "      <th>1</th>\n",
       "      <td>2</td>\n",
       "      <td>Super Mario Bros.</td>\n",
       "      <td>NES</td>\n",
       "      <td>1985.0</td>\n",
       "      <td>Platform</td>\n",
       "      <td>Nintendo</td>\n",
       "      <td>29.08</td>\n",
       "      <td>3.58</td>\n",
       "      <td>6.81</td>\n",
       "      <td>0.77</td>\n",
       "      <td>40.24</td>\n",
       "      <td>Console</td>\n",
       "      <td>False</td>\n",
       "      <td>True</td>\n",
       "      <td>False</td>\n",
       "      <td>False</td>\n",
       "      <td>False</td>\n",
       "      <td>False</td>\n",
       "      <td>False</td>\n",
       "      <td>False</td>\n",
       "    </tr>\n",
       "    <tr>\n",
       "      <th>2</th>\n",
       "      <td>3</td>\n",
       "      <td>Mario Kart Wii</td>\n",
       "      <td>Wii</td>\n",
       "      <td>2008.0</td>\n",
       "      <td>Racing</td>\n",
       "      <td>Nintendo</td>\n",
       "      <td>15.85</td>\n",
       "      <td>12.88</td>\n",
       "      <td>3.79</td>\n",
       "      <td>3.31</td>\n",
       "      <td>35.82</td>\n",
       "      <td>Console</td>\n",
       "      <td>False</td>\n",
       "      <td>True</td>\n",
       "      <td>False</td>\n",
       "      <td>False</td>\n",
       "      <td>False</td>\n",
       "      <td>False</td>\n",
       "      <td>True</td>\n",
       "      <td>False</td>\n",
       "    </tr>\n",
       "    <tr>\n",
       "      <th>3</th>\n",
       "      <td>4</td>\n",
       "      <td>Wii Sports Resort</td>\n",
       "      <td>Wii</td>\n",
       "      <td>2009.0</td>\n",
       "      <td>Sports</td>\n",
       "      <td>Nintendo</td>\n",
       "      <td>15.75</td>\n",
       "      <td>11.01</td>\n",
       "      <td>3.28</td>\n",
       "      <td>2.96</td>\n",
       "      <td>33.00</td>\n",
       "      <td>Console</td>\n",
       "      <td>False</td>\n",
       "      <td>False</td>\n",
       "      <td>False</td>\n",
       "      <td>False</td>\n",
       "      <td>False</td>\n",
       "      <td>False</td>\n",
       "      <td>True</td>\n",
       "      <td>False</td>\n",
       "    </tr>\n",
       "    <tr>\n",
       "      <th>4</th>\n",
       "      <td>5</td>\n",
       "      <td>Pokemon Red/Pokemon Blue</td>\n",
       "      <td>GB</td>\n",
       "      <td>1996.0</td>\n",
       "      <td>Role-Playing</td>\n",
       "      <td>Nintendo</td>\n",
       "      <td>11.27</td>\n",
       "      <td>8.89</td>\n",
       "      <td>10.22</td>\n",
       "      <td>1.00</td>\n",
       "      <td>31.37</td>\n",
       "      <td>Portable</td>\n",
       "      <td>False</td>\n",
       "      <td>False</td>\n",
       "      <td>False</td>\n",
       "      <td>False</td>\n",
       "      <td>True</td>\n",
       "      <td>False</td>\n",
       "      <td>False</td>\n",
       "      <td>False</td>\n",
       "    </tr>\n",
       "    <tr>\n",
       "      <th>5</th>\n",
       "      <td>6</td>\n",
       "      <td>Tetris</td>\n",
       "      <td>GB</td>\n",
       "      <td>1989.0</td>\n",
       "      <td>Puzzle</td>\n",
       "      <td>Nintendo</td>\n",
       "      <td>23.20</td>\n",
       "      <td>2.26</td>\n",
       "      <td>4.22</td>\n",
       "      <td>0.58</td>\n",
       "      <td>30.26</td>\n",
       "      <td>Portable</td>\n",
       "      <td>False</td>\n",
       "      <td>False</td>\n",
       "      <td>False</td>\n",
       "      <td>False</td>\n",
       "      <td>False</td>\n",
       "      <td>False</td>\n",
       "      <td>False</td>\n",
       "      <td>False</td>\n",
       "    </tr>\n",
       "    <tr>\n",
       "      <th>6</th>\n",
       "      <td>7</td>\n",
       "      <td>New Super Mario Bros.</td>\n",
       "      <td>DS</td>\n",
       "      <td>2006.0</td>\n",
       "      <td>Platform</td>\n",
       "      <td>Nintendo</td>\n",
       "      <td>11.38</td>\n",
       "      <td>9.23</td>\n",
       "      <td>6.50</td>\n",
       "      <td>2.90</td>\n",
       "      <td>30.01</td>\n",
       "      <td>Portable</td>\n",
       "      <td>False</td>\n",
       "      <td>True</td>\n",
       "      <td>False</td>\n",
       "      <td>False</td>\n",
       "      <td>False</td>\n",
       "      <td>False</td>\n",
       "      <td>False</td>\n",
       "      <td>False</td>\n",
       "    </tr>\n",
       "    <tr>\n",
       "      <th>7</th>\n",
       "      <td>8</td>\n",
       "      <td>Wii Play</td>\n",
       "      <td>Wii</td>\n",
       "      <td>2006.0</td>\n",
       "      <td>Misc</td>\n",
       "      <td>Nintendo</td>\n",
       "      <td>14.03</td>\n",
       "      <td>9.20</td>\n",
       "      <td>2.93</td>\n",
       "      <td>2.85</td>\n",
       "      <td>29.02</td>\n",
       "      <td>Console</td>\n",
       "      <td>False</td>\n",
       "      <td>False</td>\n",
       "      <td>False</td>\n",
       "      <td>False</td>\n",
       "      <td>False</td>\n",
       "      <td>False</td>\n",
       "      <td>True</td>\n",
       "      <td>False</td>\n",
       "    </tr>\n",
       "    <tr>\n",
       "      <th>8</th>\n",
       "      <td>9</td>\n",
       "      <td>New Super Mario Bros. Wii</td>\n",
       "      <td>Wii</td>\n",
       "      <td>2009.0</td>\n",
       "      <td>Platform</td>\n",
       "      <td>Nintendo</td>\n",
       "      <td>14.59</td>\n",
       "      <td>7.06</td>\n",
       "      <td>4.70</td>\n",
       "      <td>2.26</td>\n",
       "      <td>28.62</td>\n",
       "      <td>Console</td>\n",
       "      <td>False</td>\n",
       "      <td>True</td>\n",
       "      <td>False</td>\n",
       "      <td>False</td>\n",
       "      <td>False</td>\n",
       "      <td>False</td>\n",
       "      <td>True</td>\n",
       "      <td>False</td>\n",
       "    </tr>\n",
       "    <tr>\n",
       "      <th>9</th>\n",
       "      <td>10</td>\n",
       "      <td>Duck Hunt</td>\n",
       "      <td>NES</td>\n",
       "      <td>1984.0</td>\n",
       "      <td>Shooter</td>\n",
       "      <td>Nintendo</td>\n",
       "      <td>26.93</td>\n",
       "      <td>0.63</td>\n",
       "      <td>0.28</td>\n",
       "      <td>0.47</td>\n",
       "      <td>28.31</td>\n",
       "      <td>Console</td>\n",
       "      <td>False</td>\n",
       "      <td>False</td>\n",
       "      <td>False</td>\n",
       "      <td>False</td>\n",
       "      <td>False</td>\n",
       "      <td>False</td>\n",
       "      <td>False</td>\n",
       "      <td>False</td>\n",
       "    </tr>\n",
       "  </tbody>\n",
       "</table>\n",
       "</div>"
      ],
      "text/plain": [
       "   Rank                       Name Platform    Year         Genre Publisher  \\\n",
       "0     1                 Wii Sports      Wii  2006.0        Sports  Nintendo   \n",
       "1     2          Super Mario Bros.      NES  1985.0      Platform  Nintendo   \n",
       "2     3             Mario Kart Wii      Wii  2008.0        Racing  Nintendo   \n",
       "3     4          Wii Sports Resort      Wii  2009.0        Sports  Nintendo   \n",
       "4     5   Pokemon Red/Pokemon Blue       GB  1996.0  Role-Playing  Nintendo   \n",
       "5     6                     Tetris       GB  1989.0        Puzzle  Nintendo   \n",
       "6     7      New Super Mario Bros.       DS  2006.0      Platform  Nintendo   \n",
       "7     8                   Wii Play      Wii  2006.0          Misc  Nintendo   \n",
       "8     9  New Super Mario Bros. Wii      Wii  2009.0      Platform  Nintendo   \n",
       "9    10                  Duck Hunt      NES  1984.0       Shooter  Nintendo   \n",
       "\n",
       "   NA_Sales  EU_Sales  JP_Sales  Other_Sales  Global_Sales    Device   FIFA  \\\n",
       "0     41.49     29.02      3.77         8.46         82.74   Console  False   \n",
       "1     29.08      3.58      6.81         0.77         40.24   Console  False   \n",
       "2     15.85     12.88      3.79         3.31         35.82   Console  False   \n",
       "3     15.75     11.01      3.28         2.96         33.00   Console  False   \n",
       "4     11.27      8.89     10.22         1.00         31.37  Portable  False   \n",
       "5     23.20      2.26      4.22         0.58         30.26  Portable  False   \n",
       "6     11.38      9.23      6.50         2.90         30.01  Portable  False   \n",
       "7     14.03      9.20      2.93         2.85         29.02   Console  False   \n",
       "8     14.59      7.06      4.70         2.26         28.62   Console  False   \n",
       "9     26.93      0.63      0.28         0.47         28.31   Console  False   \n",
       "\n",
       "   Mario  Call of Duty  Grand Theft Auto  Pokemon   Halo    Wii    NBA  \n",
       "0  False         False             False    False  False   True  False  \n",
       "1   True         False             False    False  False  False  False  \n",
       "2   True         False             False    False  False   True  False  \n",
       "3  False         False             False    False  False   True  False  \n",
       "4  False         False             False     True  False  False  False  \n",
       "5  False         False             False    False  False  False  False  \n",
       "6   True         False             False    False  False  False  False  \n",
       "7  False         False             False    False  False   True  False  \n",
       "8   True         False             False    False  False   True  False  \n",
       "9  False         False             False    False  False  False  False  "
      ]
     },
     "execution_count": 21,
     "metadata": {},
     "output_type": "execute_result"
    }
   ],
   "source": [
    "# Adding Feature of Game Series\n",
    "series=['FIFA','Mario','Call of Duty','Grand Theft Auto', 'Pokemon','Halo','Wii','NBA']\n",
    "for ser in series:\n",
    "    df[ser]=df['Name'].str.contains(ser, regex=False, case=False, na=False)\n",
    "df.head(10)"
   ]
  },
  {
   "cell_type": "code",
   "execution_count": 22,
   "metadata": {
    "execution": {
     "iopub.execute_input": "2020-08-22T06:34:16.203293Z",
     "iopub.status.busy": "2020-08-22T06:34:16.202546Z",
     "iopub.status.idle": "2020-08-22T06:34:16.284371Z",
     "shell.execute_reply": "2020-08-22T06:34:16.283682Z"
    },
    "papermill": {
     "duration": 0.114595,
     "end_time": "2020-08-22T06:34:16.284528",
     "exception": false,
     "start_time": "2020-08-22T06:34:16.169933",
     "status": "completed"
    },
    "tags": []
   },
   "outputs": [
    {
     "data": {
      "text/html": [
       "<div>\n",
       "<style scoped>\n",
       "    .dataframe tbody tr th:only-of-type {\n",
       "        vertical-align: middle;\n",
       "    }\n",
       "\n",
       "    .dataframe tbody tr th {\n",
       "        vertical-align: top;\n",
       "    }\n",
       "\n",
       "    .dataframe thead th {\n",
       "        text-align: right;\n",
       "    }\n",
       "</style>\n",
       "<table border=\"1\" class=\"dataframe\">\n",
       "  <thead>\n",
       "    <tr style=\"text-align: right;\">\n",
       "      <th></th>\n",
       "      <th>Rank</th>\n",
       "      <th>Name</th>\n",
       "      <th>Platform</th>\n",
       "      <th>Year</th>\n",
       "      <th>Genre</th>\n",
       "      <th>Publisher</th>\n",
       "      <th>NA_Sales</th>\n",
       "      <th>EU_Sales</th>\n",
       "      <th>JP_Sales</th>\n",
       "      <th>Other_Sales</th>\n",
       "      <th>...</th>\n",
       "      <th>Call of Duty</th>\n",
       "      <th>Grand Theft Auto</th>\n",
       "      <th>Pokemon</th>\n",
       "      <th>Halo</th>\n",
       "      <th>Wii</th>\n",
       "      <th>NBA</th>\n",
       "      <th>NA_Sales As a percentage of Total</th>\n",
       "      <th>EU_Sales As a percentage of Total</th>\n",
       "      <th>JP_Sales As a percentage of Total</th>\n",
       "      <th>Other_Sales As a percentage of Total</th>\n",
       "    </tr>\n",
       "  </thead>\n",
       "  <tbody>\n",
       "    <tr>\n",
       "      <th>0</th>\n",
       "      <td>1</td>\n",
       "      <td>Wii Sports</td>\n",
       "      <td>Wii</td>\n",
       "      <td>2006.0</td>\n",
       "      <td>Sports</td>\n",
       "      <td>Nintendo</td>\n",
       "      <td>41.49</td>\n",
       "      <td>29.02</td>\n",
       "      <td>3.77</td>\n",
       "      <td>8.46</td>\n",
       "      <td>...</td>\n",
       "      <td>False</td>\n",
       "      <td>False</td>\n",
       "      <td>False</td>\n",
       "      <td>False</td>\n",
       "      <td>True</td>\n",
       "      <td>False</td>\n",
       "      <td>50.15</td>\n",
       "      <td>35.07</td>\n",
       "      <td>4.56</td>\n",
       "      <td>10.22</td>\n",
       "    </tr>\n",
       "    <tr>\n",
       "      <th>1</th>\n",
       "      <td>2</td>\n",
       "      <td>Super Mario Bros.</td>\n",
       "      <td>NES</td>\n",
       "      <td>1985.0</td>\n",
       "      <td>Platform</td>\n",
       "      <td>Nintendo</td>\n",
       "      <td>29.08</td>\n",
       "      <td>3.58</td>\n",
       "      <td>6.81</td>\n",
       "      <td>0.77</td>\n",
       "      <td>...</td>\n",
       "      <td>False</td>\n",
       "      <td>False</td>\n",
       "      <td>False</td>\n",
       "      <td>False</td>\n",
       "      <td>False</td>\n",
       "      <td>False</td>\n",
       "      <td>72.27</td>\n",
       "      <td>8.90</td>\n",
       "      <td>16.92</td>\n",
       "      <td>1.91</td>\n",
       "    </tr>\n",
       "    <tr>\n",
       "      <th>2</th>\n",
       "      <td>3</td>\n",
       "      <td>Mario Kart Wii</td>\n",
       "      <td>Wii</td>\n",
       "      <td>2008.0</td>\n",
       "      <td>Racing</td>\n",
       "      <td>Nintendo</td>\n",
       "      <td>15.85</td>\n",
       "      <td>12.88</td>\n",
       "      <td>3.79</td>\n",
       "      <td>3.31</td>\n",
       "      <td>...</td>\n",
       "      <td>False</td>\n",
       "      <td>False</td>\n",
       "      <td>False</td>\n",
       "      <td>False</td>\n",
       "      <td>True</td>\n",
       "      <td>False</td>\n",
       "      <td>44.25</td>\n",
       "      <td>35.96</td>\n",
       "      <td>10.58</td>\n",
       "      <td>9.24</td>\n",
       "    </tr>\n",
       "    <tr>\n",
       "      <th>3</th>\n",
       "      <td>4</td>\n",
       "      <td>Wii Sports Resort</td>\n",
       "      <td>Wii</td>\n",
       "      <td>2009.0</td>\n",
       "      <td>Sports</td>\n",
       "      <td>Nintendo</td>\n",
       "      <td>15.75</td>\n",
       "      <td>11.01</td>\n",
       "      <td>3.28</td>\n",
       "      <td>2.96</td>\n",
       "      <td>...</td>\n",
       "      <td>False</td>\n",
       "      <td>False</td>\n",
       "      <td>False</td>\n",
       "      <td>False</td>\n",
       "      <td>True</td>\n",
       "      <td>False</td>\n",
       "      <td>47.73</td>\n",
       "      <td>33.36</td>\n",
       "      <td>9.94</td>\n",
       "      <td>8.97</td>\n",
       "    </tr>\n",
       "    <tr>\n",
       "      <th>4</th>\n",
       "      <td>5</td>\n",
       "      <td>Pokemon Red/Pokemon Blue</td>\n",
       "      <td>GB</td>\n",
       "      <td>1996.0</td>\n",
       "      <td>Role-Playing</td>\n",
       "      <td>Nintendo</td>\n",
       "      <td>11.27</td>\n",
       "      <td>8.89</td>\n",
       "      <td>10.22</td>\n",
       "      <td>1.00</td>\n",
       "      <td>...</td>\n",
       "      <td>False</td>\n",
       "      <td>False</td>\n",
       "      <td>True</td>\n",
       "      <td>False</td>\n",
       "      <td>False</td>\n",
       "      <td>False</td>\n",
       "      <td>35.93</td>\n",
       "      <td>28.34</td>\n",
       "      <td>32.58</td>\n",
       "      <td>3.19</td>\n",
       "    </tr>\n",
       "    <tr>\n",
       "      <th>...</th>\n",
       "      <td>...</td>\n",
       "      <td>...</td>\n",
       "      <td>...</td>\n",
       "      <td>...</td>\n",
       "      <td>...</td>\n",
       "      <td>...</td>\n",
       "      <td>...</td>\n",
       "      <td>...</td>\n",
       "      <td>...</td>\n",
       "      <td>...</td>\n",
       "      <td>...</td>\n",
       "      <td>...</td>\n",
       "      <td>...</td>\n",
       "      <td>...</td>\n",
       "      <td>...</td>\n",
       "      <td>...</td>\n",
       "      <td>...</td>\n",
       "      <td>...</td>\n",
       "      <td>...</td>\n",
       "      <td>...</td>\n",
       "      <td>...</td>\n",
       "    </tr>\n",
       "    <tr>\n",
       "      <th>16593</th>\n",
       "      <td>16596</td>\n",
       "      <td>Woody Woodpecker in Crazy Castle 5</td>\n",
       "      <td>GBA</td>\n",
       "      <td>2002.0</td>\n",
       "      <td>Platform</td>\n",
       "      <td>Kemco</td>\n",
       "      <td>0.01</td>\n",
       "      <td>0.00</td>\n",
       "      <td>0.00</td>\n",
       "      <td>0.00</td>\n",
       "      <td>...</td>\n",
       "      <td>False</td>\n",
       "      <td>False</td>\n",
       "      <td>False</td>\n",
       "      <td>False</td>\n",
       "      <td>False</td>\n",
       "      <td>False</td>\n",
       "      <td>100.00</td>\n",
       "      <td>0.00</td>\n",
       "      <td>0.00</td>\n",
       "      <td>0.00</td>\n",
       "    </tr>\n",
       "    <tr>\n",
       "      <th>16594</th>\n",
       "      <td>16597</td>\n",
       "      <td>Men in Black II: Alien Escape</td>\n",
       "      <td>GC</td>\n",
       "      <td>2003.0</td>\n",
       "      <td>Shooter</td>\n",
       "      <td>Infogrames</td>\n",
       "      <td>0.01</td>\n",
       "      <td>0.00</td>\n",
       "      <td>0.00</td>\n",
       "      <td>0.00</td>\n",
       "      <td>...</td>\n",
       "      <td>False</td>\n",
       "      <td>False</td>\n",
       "      <td>False</td>\n",
       "      <td>False</td>\n",
       "      <td>False</td>\n",
       "      <td>False</td>\n",
       "      <td>100.00</td>\n",
       "      <td>0.00</td>\n",
       "      <td>0.00</td>\n",
       "      <td>0.00</td>\n",
       "    </tr>\n",
       "    <tr>\n",
       "      <th>16595</th>\n",
       "      <td>16598</td>\n",
       "      <td>SCORE International Baja 1000: The Official Game</td>\n",
       "      <td>PS2</td>\n",
       "      <td>2008.0</td>\n",
       "      <td>Racing</td>\n",
       "      <td>Activision</td>\n",
       "      <td>0.00</td>\n",
       "      <td>0.00</td>\n",
       "      <td>0.00</td>\n",
       "      <td>0.00</td>\n",
       "      <td>...</td>\n",
       "      <td>False</td>\n",
       "      <td>False</td>\n",
       "      <td>False</td>\n",
       "      <td>False</td>\n",
       "      <td>False</td>\n",
       "      <td>False</td>\n",
       "      <td>0.00</td>\n",
       "      <td>0.00</td>\n",
       "      <td>0.00</td>\n",
       "      <td>0.00</td>\n",
       "    </tr>\n",
       "    <tr>\n",
       "      <th>16596</th>\n",
       "      <td>16599</td>\n",
       "      <td>Know How 2</td>\n",
       "      <td>DS</td>\n",
       "      <td>2010.0</td>\n",
       "      <td>Puzzle</td>\n",
       "      <td>7G//AMES</td>\n",
       "      <td>0.00</td>\n",
       "      <td>0.01</td>\n",
       "      <td>0.00</td>\n",
       "      <td>0.00</td>\n",
       "      <td>...</td>\n",
       "      <td>False</td>\n",
       "      <td>False</td>\n",
       "      <td>False</td>\n",
       "      <td>False</td>\n",
       "      <td>False</td>\n",
       "      <td>False</td>\n",
       "      <td>0.00</td>\n",
       "      <td>100.00</td>\n",
       "      <td>0.00</td>\n",
       "      <td>0.00</td>\n",
       "    </tr>\n",
       "    <tr>\n",
       "      <th>16597</th>\n",
       "      <td>16600</td>\n",
       "      <td>Spirits &amp; Spells</td>\n",
       "      <td>GBA</td>\n",
       "      <td>2003.0</td>\n",
       "      <td>Platform</td>\n",
       "      <td>Wanadoo</td>\n",
       "      <td>0.01</td>\n",
       "      <td>0.00</td>\n",
       "      <td>0.00</td>\n",
       "      <td>0.00</td>\n",
       "      <td>...</td>\n",
       "      <td>False</td>\n",
       "      <td>False</td>\n",
       "      <td>False</td>\n",
       "      <td>False</td>\n",
       "      <td>False</td>\n",
       "      <td>False</td>\n",
       "      <td>100.00</td>\n",
       "      <td>0.00</td>\n",
       "      <td>0.00</td>\n",
       "      <td>0.00</td>\n",
       "    </tr>\n",
       "  </tbody>\n",
       "</table>\n",
       "<p>16598 rows × 24 columns</p>\n",
       "</div>"
      ],
      "text/plain": [
       "        Rank                                              Name Platform  \\\n",
       "0          1                                        Wii Sports      Wii   \n",
       "1          2                                 Super Mario Bros.      NES   \n",
       "2          3                                    Mario Kart Wii      Wii   \n",
       "3          4                                 Wii Sports Resort      Wii   \n",
       "4          5                          Pokemon Red/Pokemon Blue       GB   \n",
       "...      ...                                               ...      ...   \n",
       "16593  16596                Woody Woodpecker in Crazy Castle 5      GBA   \n",
       "16594  16597                     Men in Black II: Alien Escape       GC   \n",
       "16595  16598  SCORE International Baja 1000: The Official Game      PS2   \n",
       "16596  16599                                        Know How 2       DS   \n",
       "16597  16600                                  Spirits & Spells      GBA   \n",
       "\n",
       "         Year         Genre   Publisher  NA_Sales  EU_Sales  JP_Sales  \\\n",
       "0      2006.0        Sports    Nintendo     41.49     29.02      3.77   \n",
       "1      1985.0      Platform    Nintendo     29.08      3.58      6.81   \n",
       "2      2008.0        Racing    Nintendo     15.85     12.88      3.79   \n",
       "3      2009.0        Sports    Nintendo     15.75     11.01      3.28   \n",
       "4      1996.0  Role-Playing    Nintendo     11.27      8.89     10.22   \n",
       "...       ...           ...         ...       ...       ...       ...   \n",
       "16593  2002.0      Platform       Kemco      0.01      0.00      0.00   \n",
       "16594  2003.0       Shooter  Infogrames      0.01      0.00      0.00   \n",
       "16595  2008.0        Racing  Activision      0.00      0.00      0.00   \n",
       "16596  2010.0        Puzzle    7G//AMES      0.00      0.01      0.00   \n",
       "16597  2003.0      Platform     Wanadoo      0.01      0.00      0.00   \n",
       "\n",
       "       Other_Sales  ...  Call of Duty Grand Theft Auto  Pokemon   Halo    Wii  \\\n",
       "0             8.46  ...         False            False    False  False   True   \n",
       "1             0.77  ...         False            False    False  False  False   \n",
       "2             3.31  ...         False            False    False  False   True   \n",
       "3             2.96  ...         False            False    False  False   True   \n",
       "4             1.00  ...         False            False     True  False  False   \n",
       "...            ...  ...           ...              ...      ...    ...    ...   \n",
       "16593         0.00  ...         False            False    False  False  False   \n",
       "16594         0.00  ...         False            False    False  False  False   \n",
       "16595         0.00  ...         False            False    False  False  False   \n",
       "16596         0.00  ...         False            False    False  False  False   \n",
       "16597         0.00  ...         False            False    False  False  False   \n",
       "\n",
       "         NBA  NA_Sales As a percentage of Total  \\\n",
       "0      False                              50.15   \n",
       "1      False                              72.27   \n",
       "2      False                              44.25   \n",
       "3      False                              47.73   \n",
       "4      False                              35.93   \n",
       "...      ...                                ...   \n",
       "16593  False                             100.00   \n",
       "16594  False                             100.00   \n",
       "16595  False                               0.00   \n",
       "16596  False                               0.00   \n",
       "16597  False                             100.00   \n",
       "\n",
       "       EU_Sales As a percentage of Total  JP_Sales As a percentage of Total  \\\n",
       "0                                  35.07                               4.56   \n",
       "1                                   8.90                              16.92   \n",
       "2                                  35.96                              10.58   \n",
       "3                                  33.36                               9.94   \n",
       "4                                  28.34                              32.58   \n",
       "...                                  ...                                ...   \n",
       "16593                               0.00                               0.00   \n",
       "16594                               0.00                               0.00   \n",
       "16595                               0.00                               0.00   \n",
       "16596                             100.00                               0.00   \n",
       "16597                               0.00                               0.00   \n",
       "\n",
       "       Other_Sales As a percentage of Total  \n",
       "0                                     10.22  \n",
       "1                                      1.91  \n",
       "2                                      9.24  \n",
       "3                                      8.97  \n",
       "4                                      3.19  \n",
       "...                                     ...  \n",
       "16593                                  0.00  \n",
       "16594                                  0.00  \n",
       "16595                                  0.00  \n",
       "16596                                  0.00  \n",
       "16597                                  0.00  \n",
       "\n",
       "[16598 rows x 24 columns]"
      ]
     },
     "execution_count": 22,
     "metadata": {},
     "output_type": "execute_result"
    }
   ],
   "source": [
    "# Percentage of Total Sales Per Region\n",
    "regions_sales=['NA_Sales','EU_Sales','JP_Sales','Other_Sales']\n",
    "for reg in regions_sales:\n",
    "    A=df[reg]\n",
    "    B=df['Global_Sales']\n",
    "    df[reg+' As a percentage of Total']=round(100*(A/B),2)\n",
    "df"
   ]
  },
  {
   "cell_type": "markdown",
   "execution_count": null,
   "metadata": {
    "papermill": {
     "duration": 0.026043,
     "end_time": "2020-08-22T06:34:16.336985",
     "exception": false,
     "start_time": "2020-08-22T06:34:16.310942",
     "status": "completed"
    },
    "tags": []
   },
   "source": [
    "# Data Pre-processing for Model \n",
    "\n",
    "Now that we have engineered 3 features that better represent our variables better. Let's start pre-processing the data so that we can apply our model to it:\n",
    "\n",
    "**1. Splitting data into input and output variables**:\n",
    "\n",
    "We will ignore the Video Game's Name and Platform from our dataset as we have feature engineered these variables into more useful ones.\n",
    "\n",
    "We will also ignore the gross number of region sales and instead look at each as a percentage of the total. This is because the gross region sales are highly correlated with the global sales since they actually make it up. Therefore, if left this in our model since it would be a data leakage for our target variable. Despite this, it would be interesting to see if the distrbution of sales by region impacts the actual Global Sales number. Thus, we will look at this through expressing it as a percentage of global sales.   \n",
    "\n",
    "\n",
    "**2. Dealing with missing values and cateogrical variables**\n",
    "\n",
    "**3. Winsorization for outliers**\n",
    "\n",
    "In our data set we can see that there is a significant outliers for global sales. We can see this in the distrbution plot of global sales where the mean is significantly lower than the maximum. The next closest global sales value is more than half of the maximum. In order to combat the impact that outliers will have on our model we will use winsorization to reduce its effect.    \n",
    "\n"
   ]
  },
  {
   "cell_type": "code",
   "execution_count": 23,
   "metadata": {
    "execution": {
     "iopub.execute_input": "2020-08-22T06:34:16.397979Z",
     "iopub.status.busy": "2020-08-22T06:34:16.397135Z",
     "iopub.status.idle": "2020-08-22T06:34:16.404798Z",
     "shell.execute_reply": "2020-08-22T06:34:16.404021Z"
    },
    "papermill": {
     "duration": 0.041631,
     "end_time": "2020-08-22T06:34:16.404932",
     "exception": false,
     "start_time": "2020-08-22T06:34:16.363301",
     "status": "completed"
    },
    "tags": []
   },
   "outputs": [],
   "source": [
    "# Splitting Data into input and output variables\n",
    "features= ['Year', 'Genre', 'Publisher','Device',\n",
    "       'FIFA', 'Mario', 'Call of Duty', 'Grand Theft Auto', 'Pokemon', 'Halo',\n",
    "       'Wii', 'NBA', 'NA_Sales As a percentage of Total',\n",
    "       'EU_Sales As a percentage of Total',\n",
    "       'JP_Sales As a percentage of Total',\n",
    "       'Other_Sales As a percentage of Total']\n",
    "X=df[features]\n",
    "X\n",
    "y=df['Global_Sales']"
   ]
  },
  {
   "cell_type": "code",
   "execution_count": 24,
   "metadata": {
    "execution": {
     "iopub.execute_input": "2020-08-22T06:34:16.470815Z",
     "iopub.status.busy": "2020-08-22T06:34:16.469724Z",
     "iopub.status.idle": "2020-08-22T06:34:16.477703Z",
     "shell.execute_reply": "2020-08-22T06:34:16.476610Z"
    },
    "papermill": {
     "duration": 0.04674,
     "end_time": "2020-08-22T06:34:16.477897",
     "exception": false,
     "start_time": "2020-08-22T06:34:16.431157",
     "status": "completed"
    },
    "tags": []
   },
   "outputs": [
    {
     "name": "stdout",
     "output_type": "stream",
     "text": [
      "Year                                    271\n",
      "Genre                                     0\n",
      "Publisher                                58\n",
      "Device                                    0\n",
      "FIFA                                      0\n",
      "Mario                                     0\n",
      "Call of Duty                              0\n",
      "Grand Theft Auto                          0\n",
      "Pokemon                                   0\n",
      "Halo                                      0\n",
      "Wii                                       0\n",
      "NBA                                       0\n",
      "NA_Sales As a percentage of Total         0\n",
      "EU_Sales As a percentage of Total         0\n",
      "JP_Sales As a percentage of Total         0\n",
      "Other_Sales As a percentage of Total      0\n",
      "dtype: int64\n"
     ]
    }
   ],
   "source": [
    "# Checking for Missing values\n",
    "print(X.isnull().sum())"
   ]
  },
  {
   "cell_type": "code",
   "execution_count": 25,
   "metadata": {
    "execution": {
     "iopub.execute_input": "2020-08-22T06:34:16.547103Z",
     "iopub.status.busy": "2020-08-22T06:34:16.537354Z",
     "iopub.status.idle": "2020-08-22T06:34:16.565460Z",
     "shell.execute_reply": "2020-08-22T06:34:16.566135Z"
    },
    "papermill": {
     "duration": 0.061565,
     "end_time": "2020-08-22T06:34:16.566303",
     "exception": false,
     "start_time": "2020-08-22T06:34:16.504738",
     "status": "completed"
    },
    "tags": []
   },
   "outputs": [
    {
     "name": "stderr",
     "output_type": "stream",
     "text": [
      "/opt/conda/lib/python3.7/site-packages/pandas/core/series.py:4523: SettingWithCopyWarning: \n",
      "A value is trying to be set on a copy of a slice from a DataFrame\n",
      "\n",
      "See the caveats in the documentation: https://pandas.pydata.org/pandas-docs/stable/user_guide/indexing.html#returning-a-view-versus-a-copy\n",
      "  downcast=downcast,\n"
     ]
    },
    {
     "data": {
      "text/plain": [
       "0"
      ]
     },
     "execution_count": 25,
     "metadata": {},
     "output_type": "execute_result"
    }
   ],
   "source": [
    "# Investigating which rows have missing values\n",
    "df[df.isnull().any(axis=1)]\n",
    "# For those with Publishers as NaN we will fill them with unknown\n",
    "X.Publisher.fillna('Unknown',inplace=True)\n",
    "X.Publisher.isnull().sum()"
   ]
  },
  {
   "cell_type": "code",
   "execution_count": 26,
   "metadata": {
    "execution": {
     "iopub.execute_input": "2020-08-22T06:34:16.629260Z",
     "iopub.status.busy": "2020-08-22T06:34:16.628282Z",
     "iopub.status.idle": "2020-08-22T06:34:16.648695Z",
     "shell.execute_reply": "2020-08-22T06:34:16.649288Z"
    },
    "papermill": {
     "duration": 0.056547,
     "end_time": "2020-08-22T06:34:16.649477",
     "exception": false,
     "start_time": "2020-08-22T06:34:16.592930",
     "status": "completed"
    },
    "tags": []
   },
   "outputs": [
    {
     "name": "stderr",
     "output_type": "stream",
     "text": [
      "/opt/conda/lib/python3.7/site-packages/ipykernel_launcher.py:8: SettingWithCopyWarning: \n",
      "A value is trying to be set on a copy of a slice from a DataFrame.\n",
      "Try using .loc[row_indexer,col_indexer] = value instead\n",
      "\n",
      "See the caveats in the documentation: https://pandas.pydata.org/pandas-docs/stable/user_guide/indexing.html#returning-a-view-versus-a-copy\n",
      "  \n"
     ]
    },
    {
     "data": {
      "text/plain": [
       "Year                                    0\n",
       "Genre                                   0\n",
       "Publisher                               0\n",
       "Device                                  0\n",
       "FIFA                                    0\n",
       "Mario                                   0\n",
       "Call of Duty                            0\n",
       "Grand Theft Auto                        0\n",
       "Pokemon                                 0\n",
       "Halo                                    0\n",
       "Wii                                     0\n",
       "NBA                                     0\n",
       "NA_Sales As a percentage of Total       0\n",
       "EU_Sales As a percentage of Total       0\n",
       "JP_Sales As a percentage of Total       0\n",
       "Other_Sales As a percentage of Total    0\n",
       "Year was Missing                        0\n",
       "dtype: int64"
      ]
     },
     "execution_count": 26,
     "metadata": {},
     "output_type": "execute_result"
    }
   ],
   "source": [
    "# Dealing with missing year value:\n",
    "df[df.Year.isnull()]\n",
    "# From look at this dataset there does not seem to be a pattern for missing years. We will therefore fill it by its median since \n",
    "# this will be a better measure of center than mean due to the left skewed distrbution of Years in this dataset\n",
    "f=df.Year.median()\n",
    "X.Year.fillna(f,inplace=True)\n",
    "# We should indicate in which records we have imputed years column with the median\n",
    "X['Year was Missing']=df.Year.isnull()\n",
    "X[X['Year was Missing']==True]\n",
    "# Confirm all missing values are filled\n",
    "X.isnull().sum()"
   ]
  },
  {
   "cell_type": "code",
   "execution_count": 27,
   "metadata": {
    "execution": {
     "iopub.execute_input": "2020-08-22T06:34:16.712073Z",
     "iopub.status.busy": "2020-08-22T06:34:16.711194Z",
     "iopub.status.idle": "2020-08-22T06:34:16.720569Z",
     "shell.execute_reply": "2020-08-22T06:34:16.719903Z"
    },
    "papermill": {
     "duration": 0.044103,
     "end_time": "2020-08-22T06:34:16.720702",
     "exception": false,
     "start_time": "2020-08-22T06:34:16.676599",
     "status": "completed"
    },
    "tags": []
   },
   "outputs": [
    {
     "name": "stdout",
     "output_type": "stream",
     "text": [
      "The cardinality of Genre is 12\n",
      "The cardinality of Publisher is 578\n",
      "The cardinality of Device is 3\n"
     ]
    }
   ],
   "source": [
    "# Now let's move on to the categorical variables\n",
    "# For Series Type we have already encoded it using OneHotEncoding. The only other two variables left are Genre, Publisher and Device Type\n",
    "# Check the cardinality for each of these variables\n",
    "for col in ['Genre','Publisher','Device']:\n",
    "    print('The cardinality of {} is {}'.format(col,X[col].nunique()))"
   ]
  },
  {
   "cell_type": "code",
   "execution_count": 28,
   "metadata": {
    "execution": {
     "iopub.execute_input": "2020-08-22T06:34:16.783493Z",
     "iopub.status.busy": "2020-08-22T06:34:16.782500Z",
     "iopub.status.idle": "2020-08-22T06:34:16.864713Z",
     "shell.execute_reply": "2020-08-22T06:34:16.863979Z"
    },
    "papermill": {
     "duration": 0.117138,
     "end_time": "2020-08-22T06:34:16.864858",
     "exception": false,
     "start_time": "2020-08-22T06:34:16.747720",
     "status": "completed"
    },
    "tags": []
   },
   "outputs": [],
   "source": [
    "# For Device Type we can use One-Hot Encoding \n",
    "from sklearn.preprocessing import OneHotEncoder\n",
    "OH_Encoder=OneHotEncoder(sparse=False,handle_unknown='ignore')\n",
    "low_card_col=['Device']\n",
    "OH_cols_X=pd.DataFrame(OH_Encoder.fit_transform(X[low_card_col]))\n",
    "OH_cols_X.index=X.index\n",
    "other=X.drop(low_card_col,axis=1)\n",
    "X_processed=pd.concat([other,OH_cols_X], axis=1)"
   ]
  },
  {
   "cell_type": "code",
   "execution_count": 29,
   "metadata": {
    "execution": {
     "iopub.execute_input": "2020-08-22T06:34:16.927293Z",
     "iopub.status.busy": "2020-08-22T06:34:16.926234Z",
     "iopub.status.idle": "2020-08-22T06:34:16.946208Z",
     "shell.execute_reply": "2020-08-22T06:34:16.945517Z"
    },
    "papermill": {
     "duration": 0.054447,
     "end_time": "2020-08-22T06:34:16.946342",
     "exception": false,
     "start_time": "2020-08-22T06:34:16.891895",
     "status": "completed"
    },
    "tags": []
   },
   "outputs": [],
   "source": [
    "# For the high cardinality columns we shall use label encoding to minimise the data transformations needed to take place\n",
    "high_cardinality =['Genre','Publisher']\n",
    "label_X=X_processed.copy()\n",
    "from sklearn.preprocessing import LabelEncoder\n",
    "label_encoder= LabelEncoder()\n",
    "for col in high_cardinality:\n",
    "    label_X[col]=label_encoder.fit_transform(X[col])"
   ]
  },
  {
   "cell_type": "code",
   "execution_count": 30,
   "metadata": {
    "execution": {
     "iopub.execute_input": "2020-08-22T06:34:17.007310Z",
     "iopub.status.busy": "2020-08-22T06:34:17.006560Z",
     "iopub.status.idle": "2020-08-22T06:34:17.013149Z",
     "shell.execute_reply": "2020-08-22T06:34:17.012411Z"
    },
    "papermill": {
     "duration": 0.039522,
     "end_time": "2020-08-22T06:34:17.013284",
     "exception": false,
     "start_time": "2020-08-22T06:34:16.973762",
     "status": "completed"
    },
    "tags": []
   },
   "outputs": [
    {
     "data": {
      "text/plain": [
       "masked_array(data=[4.024e+01, 4.024e+01, 3.582e+01, ..., 1.000e-02,\n",
       "                   1.000e-02, 1.000e-02],\n",
       "             mask=False,\n",
       "       fill_value=1e+20)"
      ]
     },
     "execution_count": 30,
     "metadata": {},
     "output_type": "execute_result"
    }
   ],
   "source": [
    "# Winsorization\n",
    "from scipy.stats.mstats import winsorize\n",
    "y_w=winsorize(y,limits=0.0001)\n",
    "y_w"
   ]
  },
  {
   "cell_type": "markdown",
   "execution_count": null,
   "metadata": {
    "papermill": {
     "duration": 0.027197,
     "end_time": "2020-08-22T06:34:17.067843",
     "exception": false,
     "start_time": "2020-08-22T06:34:17.040646",
     "status": "completed"
    },
    "tags": []
   },
   "source": [
    "# Let's Finally Start Model Building!\n",
    "\n",
    "Using cross validation scores we will start to evaluate different models performance on our dataset\n",
    "\n",
    "## Baseline Model Results\n",
    "\n",
    "1. Linear Regression: 0.670\n",
    "2. Decision Tree Regressor: 0.569\n",
    "3. Random Forest Regressor: 0.570\n",
    "4. Bagging Regressor: 0.572\n",
    "5. Extra Trees Regressor: 0.569\n",
    "6. Gradient Boosting: 0.566\n",
    "7. **Voting Regressor #1: 0.561**  - where we will combine the best baseline models and make them vote on the final predicted value. \n",
    "\n"
   ]
  },
  {
   "cell_type": "code",
   "execution_count": 31,
   "metadata": {
    "execution": {
     "iopub.execute_input": "2020-08-22T06:34:17.130631Z",
     "iopub.status.busy": "2020-08-22T06:34:17.129806Z",
     "iopub.status.idle": "2020-08-22T06:34:17.570994Z",
     "shell.execute_reply": "2020-08-22T06:34:17.571710Z"
    },
    "papermill": {
     "duration": 0.476552,
     "end_time": "2020-08-22T06:34:17.571915",
     "exception": false,
     "start_time": "2020-08-22T06:34:17.095363",
     "status": "completed"
    },
    "tags": []
   },
   "outputs": [
    {
     "name": "stdout",
     "output_type": "stream",
     "text": [
      "[1.78090332 0.32565356 0.42805548 0.45719344 0.35649035]\n",
      "0.6696592284523869\n"
     ]
    }
   ],
   "source": [
    "# Linear Regression\n",
    "from sklearn.model_selection import cross_val_score\n",
    "from sklearn.linear_model import LinearRegression\n",
    "lin=LinearRegression()\n",
    "cv=-1*cross_val_score(lin,label_X,y_w,cv=5,scoring='neg_mean_absolute_error')\n",
    "print(cv)\n",
    "print(cv.mean())"
   ]
  },
  {
   "cell_type": "code",
   "execution_count": 32,
   "metadata": {
    "execution": {
     "iopub.execute_input": "2020-08-22T06:34:17.697679Z",
     "iopub.status.busy": "2020-08-22T06:34:17.696702Z",
     "iopub.status.idle": "2020-08-22T06:34:18.369342Z",
     "shell.execute_reply": "2020-08-22T06:34:18.368660Z"
    },
    "papermill": {
     "duration": 0.765832,
     "end_time": "2020-08-22T06:34:18.369494",
     "exception": false,
     "start_time": "2020-08-22T06:34:17.603662",
     "status": "completed"
    },
    "tags": []
   },
   "outputs": [
    {
     "name": "stdout",
     "output_type": "stream",
     "text": [
      "[1.60795881 0.50808008 0.32825729 0.19188193 0.20939328]\n",
      "0.5691142784541159\n"
     ]
    }
   ],
   "source": [
    "# Decision Tree Regressor\n",
    "from sklearn import tree\n",
    "dt=tree.DecisionTreeRegressor(max_leaf_nodes=950,random_state=1)\n",
    "cv=-1*cross_val_score(dt,label_X,y_w,cv=5,scoring='neg_mean_absolute_error')\n",
    "print(cv)\n",
    "print(cv.mean())"
   ]
  },
  {
   "cell_type": "code",
   "execution_count": 33,
   "metadata": {
    "execution": {
     "iopub.execute_input": "2020-08-22T06:34:18.432749Z",
     "iopub.status.busy": "2020-08-22T06:34:18.431851Z",
     "iopub.status.idle": "2020-08-22T06:34:48.849168Z",
     "shell.execute_reply": "2020-08-22T06:34:48.849963Z"
    },
    "papermill": {
     "duration": 30.452997,
     "end_time": "2020-08-22T06:34:48.850155",
     "exception": false,
     "start_time": "2020-08-22T06:34:18.397158",
     "status": "completed"
    },
    "tags": []
   },
   "outputs": [
    {
     "name": "stdout",
     "output_type": "stream",
     "text": [
      "[1.61390456 0.50743947 0.32987798 0.21514447 0.1843145 ]\n",
      "0.5701361945374431\n"
     ]
    }
   ],
   "source": [
    "# Random Forest Regressor\n",
    "from sklearn import ensemble\n",
    "rf=ensemble.RandomForestRegressor(n_estimators=100,random_state=1)\n",
    "cv=-1*cross_val_score(rf,label_X,y_w,cv=5,scoring='neg_mean_absolute_error')\n",
    "print(cv)\n",
    "print(cv.mean())"
   ]
  },
  {
   "cell_type": "code",
   "execution_count": 34,
   "metadata": {
    "execution": {
     "iopub.execute_input": "2020-08-22T06:34:48.914015Z",
     "iopub.status.busy": "2020-08-22T06:34:48.913173Z",
     "iopub.status.idle": "2020-08-22T06:34:53.327098Z",
     "shell.execute_reply": "2020-08-22T06:34:53.328047Z"
    },
    "papermill": {
     "duration": 4.45024,
     "end_time": "2020-08-22T06:34:53.328285",
     "exception": false,
     "start_time": "2020-08-22T06:34:48.878045",
     "status": "completed"
    },
    "tags": []
   },
   "outputs": [
    {
     "name": "stdout",
     "output_type": "stream",
     "text": [
      "[1.61354894 0.51805752 0.33221711 0.21965096 0.17756602]\n",
      "0.5722081099631178\n"
     ]
    }
   ],
   "source": [
    "# Bagging  Regressor\n",
    "bag=ensemble.BaggingRegressor(random_state=1)\n",
    "cv=-1*cross_val_score(bag,label_X,y_w,cv=5,scoring='neg_mean_absolute_error')\n",
    "print(cv)\n",
    "print(cv.mean())"
   ]
  },
  {
   "cell_type": "code",
   "execution_count": 35,
   "metadata": {
    "execution": {
     "iopub.execute_input": "2020-08-22T06:34:53.392732Z",
     "iopub.status.busy": "2020-08-22T06:34:53.391958Z",
     "iopub.status.idle": "2020-08-22T06:35:13.184196Z",
     "shell.execute_reply": "2020-08-22T06:35:13.183107Z"
    },
    "papermill": {
     "duration": 19.827892,
     "end_time": "2020-08-22T06:35:13.184402",
     "exception": false,
     "start_time": "2020-08-22T06:34:53.356510",
     "status": "completed"
    },
    "tags": []
   },
   "outputs": [
    {
     "name": "stdout",
     "output_type": "stream",
     "text": [
      "[1.63069512 0.43772397 0.34430437 0.22276414 0.20771884]\n",
      "0.5686412880722023\n"
     ]
    }
   ],
   "source": [
    "# Extra Trees Regressor\n",
    "etr=ensemble.ExtraTreesRegressor(random_state=1,n_estimators=100)\n",
    "cv=-1*cross_val_score(etr,label_X,y_w,cv=5,scoring='neg_mean_absolute_error')\n",
    "print(cv)\n",
    "print(cv.mean())"
   ]
  },
  {
   "cell_type": "code",
   "execution_count": 36,
   "metadata": {
    "execution": {
     "iopub.execute_input": "2020-08-22T06:35:13.249659Z",
     "iopub.status.busy": "2020-08-22T06:35:13.248667Z",
     "iopub.status.idle": "2020-08-22T06:35:21.341189Z",
     "shell.execute_reply": "2020-08-22T06:35:21.342018Z"
    },
    "papermill": {
     "duration": 8.128948,
     "end_time": "2020-08-22T06:35:21.342258",
     "exception": false,
     "start_time": "2020-08-22T06:35:13.213310",
     "status": "completed"
    },
    "tags": []
   },
   "outputs": [
    {
     "name": "stdout",
     "output_type": "stream",
     "text": [
      "[1.66467689 0.40969828 0.33552868 0.2462282  0.17258251]\n",
      "0.5657429093806507\n"
     ]
    }
   ],
   "source": [
    "# Gradient Boosting Regressor\n",
    "gb=ensemble.GradientBoostingRegressor(random_state=1)\n",
    "cv=-1*cross_val_score(gb,label_X,y_w,cv=5,scoring='neg_mean_absolute_error')\n",
    "print(cv)\n",
    "print(cv.mean())"
   ]
  },
  {
   "cell_type": "code",
   "execution_count": 37,
   "metadata": {
    "execution": {
     "iopub.execute_input": "2020-08-22T06:35:21.408804Z",
     "iopub.status.busy": "2020-08-22T06:35:21.407682Z",
     "iopub.status.idle": "2020-08-22T06:36:24.199398Z",
     "shell.execute_reply": "2020-08-22T06:36:24.200046Z"
    },
    "papermill": {
     "duration": 62.828998,
     "end_time": "2020-08-22T06:36:24.200225",
     "exception": false,
     "start_time": "2020-08-22T06:35:21.371227",
     "status": "completed"
    },
    "tags": []
   },
   "outputs": [
    {
     "name": "stdout",
     "output_type": "stream",
     "text": [
      "[1.62615686 0.44864724 0.32669151 0.21317383 0.19012258]\n",
      "0.5609584066836335\n"
     ]
    }
   ],
   "source": [
    "#Now let's try combining all the models with a average MAE of lower than 0.57 in a Voting Regressor:\n",
    "from sklearn.ensemble import VotingRegressor\n",
    "voting_reg=VotingRegressor(estimators=[('dt',dt),('rf',rf),('gb',gb),('bag',bag),('etr',etr)])\n",
    "cv=-1*cross_val_score(voting_reg,label_X,y_w,cv=5,scoring='neg_mean_absolute_error')\n",
    "print(cv)\n",
    "print(cv.mean())"
   ]
  },
  {
   "cell_type": "markdown",
   "execution_count": null,
   "metadata": {
    "papermill": {
     "duration": 0.028034,
     "end_time": "2020-08-22T06:36:24.256627",
     "exception": false,
     "start_time": "2020-08-22T06:36:24.228593",
     "status": "completed"
    },
    "tags": []
   },
   "source": [
    "# Model Tuning\n",
    "\n",
    "We will tune the following model to see if we want improve its performance:\n",
    "* Random Forest"
   ]
  },
  {
   "cell_type": "code",
   "execution_count": 38,
   "metadata": {
    "execution": {
     "iopub.execute_input": "2020-08-22T06:36:24.321084Z",
     "iopub.status.busy": "2020-08-22T06:36:24.320273Z",
     "iopub.status.idle": "2020-08-22T06:36:24.322874Z",
     "shell.execute_reply": "2020-08-22T06:36:24.323432Z"
    },
    "papermill": {
     "duration": 0.038561,
     "end_time": "2020-08-22T06:36:24.323605",
     "exception": false,
     "start_time": "2020-08-22T06:36:24.285044",
     "status": "completed"
    },
    "tags": []
   },
   "outputs": [],
   "source": [
    "# Model Tuning\n",
    "from sklearn.model_selection import GridSearchCV\n",
    "from sklearn.model_selection import RandomizedSearchCV\n",
    "\n",
    "def model_performance(model,name):\n",
    "    print(name)\n",
    "    print('Best Score: {}'.format(model.best_score_))\n",
    "    print('Best Parameters: {}'.format(model.best_params_))"
   ]
  },
  {
   "cell_type": "code",
   "execution_count": 39,
   "metadata": {
    "execution": {
     "iopub.execute_input": "2020-08-22T06:36:24.389461Z",
     "iopub.status.busy": "2020-08-22T06:36:24.388630Z",
     "iopub.status.idle": "2020-08-22T06:41:08.695224Z",
     "shell.execute_reply": "2020-08-22T06:41:08.696234Z"
    },
    "papermill": {
     "duration": 284.344605,
     "end_time": "2020-08-22T06:41:08.696502",
     "exception": false,
     "start_time": "2020-08-22T06:36:24.351897",
     "status": "completed"
    },
    "tags": []
   },
   "outputs": [
    {
     "name": "stdout",
     "output_type": "stream",
     "text": [
      "Fitting 5 folds for each of 3 candidates, totalling 15 fits\n"
     ]
    },
    {
     "name": "stderr",
     "output_type": "stream",
     "text": [
      "[Parallel(n_jobs=-1)]: Using backend LokyBackend with 4 concurrent workers.\n",
      "/opt/conda/lib/python3.7/site-packages/joblib/externals/loky/process_executor.py:706: UserWarning: A worker stopped while some jobs were given to the executor. This can be caused by a too short worker timeout or by a memory leak.\n",
      "  \"timeout or by a memory leak.\", UserWarning\n",
      "[Parallel(n_jobs=-1)]: Done  15 out of  15 | elapsed:  3.4min finished\n"
     ]
    },
    {
     "name": "stdout",
     "output_type": "stream",
     "text": [
      "Random Forest\n",
      "Best Score: -401.1161763168787\n",
      "Best Parameters: {'n_estimators': 1000}\n"
     ]
    }
   ],
   "source": [
    "# Random Forest Random Search\n",
    "rf\n",
    "param={\n",
    "    'n_estimators':[100,500,1000]}\n",
    "reg_rf_rs=GridSearchCV(rf, param_grid=param, cv = 5, verbose = True, n_jobs = -1)\n",
    "best_reg_rf_rnd = reg_rf_rs.fit(label_X,y_w)\n",
    "model_performance(best_reg_rf_rnd,'Random Forest')"
   ]
  },
  {
   "cell_type": "code",
   "execution_count": 40,
   "metadata": {
    "execution": {
     "iopub.execute_input": "2020-08-22T06:41:08.782924Z",
     "iopub.status.busy": "2020-08-22T06:41:08.781694Z",
     "iopub.status.idle": "2020-08-22T06:42:27.885979Z",
     "shell.execute_reply": "2020-08-22T06:42:27.885157Z"
    },
    "papermill": {
     "duration": 79.154783,
     "end_time": "2020-08-22T06:42:27.886121",
     "exception": false,
     "start_time": "2020-08-22T06:41:08.731338",
     "status": "completed"
    },
    "tags": []
   },
   "outputs": [
    {
     "data": {
      "text/plain": [
       "<matplotlib.axes._subplots.AxesSubplot at 0x7f24fa74df90>"
      ]
     },
     "execution_count": 40,
     "metadata": {},
     "output_type": "execute_result"
    },
    {
     "data": {
      "image/png": "[encoded data removed]",
      "text/plain": [
       "<Figure size 432x288 with 1 Axes>"
      ]
     },
     "metadata": {
      "needs_background": "light"
     },
     "output_type": "display_data"
    }
   ],
   "source": [
    "# Most Important Features for Random Forest\n",
    "best_rf = best_reg_rf_rnd.best_estimator_.fit(label_X,y_w)\n",
    "feat_importances = pd.Series(best_rf.feature_importances_, index=label_X.columns)\n",
    "feat_importances.plot(kind='barh')"
   ]
  },
  {
   "cell_type": "code",
   "execution_count": 41,
   "metadata": {
    "execution": {
     "iopub.execute_input": "2020-08-22T06:42:27.955811Z",
     "iopub.status.busy": "2020-08-22T06:42:27.954927Z",
     "iopub.status.idle": "2020-08-22T06:48:07.366708Z",
     "shell.execute_reply": "2020-08-22T06:48:07.367396Z"
    },
    "papermill": {
     "duration": 339.451795,
     "end_time": "2020-08-22T06:48:07.367624",
     "exception": false,
     "start_time": "2020-08-22T06:42:27.915829",
     "status": "completed"
    },
    "tags": []
   },
   "outputs": [
    {
     "name": "stdout",
     "output_type": "stream",
     "text": [
      "Cross Val Score: [1.6263099  0.44780771 0.32654437 0.21336654 0.19002783]\n",
      "Average Cross Val Score: 0.5608112681823674\n"
     ]
    }
   ],
   "source": [
    "# Best RF Model\n",
    "best_rf=best_reg_rf_rnd.best_estimator_\n",
    "\n",
    "#Developing Voting Model\n",
    "voting_reg_1 = VotingRegressor(estimators=[('dt',dt),('rf',best_rf),('gb',gb),('bag',bag),('etr',etr)])\n",
    "cv=-1*cross_val_score(voting_reg_1,label_X,y_w,cv=5,scoring='neg_mean_absolute_error')\n",
    "print('Cross Val Score: {}'.format(cv))\n",
    "print('Average Cross Val Score: {}'.format(cv.mean()))"
   ]
  },
  {
   "cell_type": "code",
   "execution_count": 42,
   "metadata": {
    "execution": {
     "iopub.execute_input": "2020-08-22T06:48:07.442563Z",
     "iopub.status.busy": "2020-08-22T06:48:07.441696Z",
     "iopub.status.idle": "2020-08-22T06:58:10.085193Z",
     "shell.execute_reply": "2020-08-22T06:58:10.085865Z"
    },
    "papermill": {
     "duration": 602.687667,
     "end_time": "2020-08-22T06:58:10.086145",
     "exception": false,
     "start_time": "2020-08-22T06:48:07.398478",
     "status": "completed"
    },
    "tags": []
   },
   "outputs": [
    {
     "name": "stdout",
     "output_type": "stream",
     "text": [
      "Fitting 5 folds for each of 4 candidates, totalling 20 fits\n"
     ]
    },
    {
     "name": "stderr",
     "output_type": "stream",
     "text": [
      "[Parallel(n_jobs=-1)]: Using backend LokyBackend with 4 concurrent workers.\n",
      "[Parallel(n_jobs=-1)]: Done  20 out of  20 | elapsed:  8.6min finished\n"
     ]
    },
    {
     "name": "stdout",
     "output_type": "stream",
     "text": [
      "VR Weights\n",
      "Best Score: -322.0260425828039\n",
      "Best Parameters: {'weights': [1, 1, 2, 1, 1]}\n"
     ]
    }
   ],
   "source": [
    "# Try and improve weights for the best voting model:\n",
    "params = {'weights' : [[1,1,1,1,1],[1,2,1,1,1],[1,1,2,1,1],[1,2,2,1,1]]}\n",
    "\n",
    "vote_weight = GridSearchCV(voting_reg_1, param_grid = params, cv = 5, verbose = True, n_jobs = -1)\n",
    "best_reg_weight = vote_weight.fit(label_X,y_w)\n",
    "model_performance(best_reg_weight,'VR Weights')\n",
    "\n",
    "best_vote=best_reg_weight.best_estimator_"
   ]
  },
  {
   "cell_type": "markdown",
   "execution_count": null,
   "metadata": {
    "papermill": {
     "duration": 0.031257,
     "end_time": "2020-08-22T06:58:10.149033",
     "exception": false,
     "start_time": "2020-08-22T06:58:10.117776",
     "status": "completed"
    },
    "tags": []
   },
   "source": [
    "# Final Model Building\n",
    "\n",
    "We will now build our final model using the tuned **voting regressor model** and test it on 1000 rows of the original dataset as our final test data in order to get key model metrics such as MAE and R2.\n",
    "\n",
    "## Summary of Final Model Buliding Results\n",
    "* MAE:\n",
    "* R2: \n",
    "\n"
   ]
  },
  {
   "cell_type": "code",
   "execution_count": 43,
   "metadata": {
    "execution": {
     "iopub.execute_input": "2020-08-22T06:58:10.234033Z",
     "iopub.status.busy": "2020-08-22T06:58:10.232883Z",
     "iopub.status.idle": "2020-08-22T06:59:31.448732Z",
     "shell.execute_reply": "2020-08-22T06:59:31.449587Z"
    },
    "papermill": {
     "duration": 81.266417,
     "end_time": "2020-08-22T06:59:31.449839",
     "exception": false,
     "start_time": "2020-08-22T06:58:10.183422",
     "status": "completed"
    },
    "tags": []
   },
   "outputs": [
    {
     "name": "stdout",
     "output_type": "stream",
     "text": [
      "The Mean Absolute Error for our final model is 0.3327021400635679\n",
      "The R-squared score for our final model is 0.6786018958294034\n"
     ]
    }
   ],
   "source": [
    "# Split Data into Train and Test\n",
    "from sklearn.model_selection import train_test_split\n",
    "train_X,test_X,train_y,test_y=train_test_split(label_X,y_w,random_state=1,test_size=1000)\n",
    "\n",
    "# Voting Regressor\n",
    "# Train Model and Make predictions\n",
    "best_vote.fit(train_X,train_y)\n",
    "pred=best_vote.predict(test_X)\n",
    "\n",
    "# Compute MAE and R2\n",
    "from sklearn import metrics\n",
    "mae=metrics.mean_absolute_error(test_y,pred)\n",
    "r2=metrics.r2_score(test_y,pred)\n",
    "print('The Mean Absolute Error for our final model is {}'.format(mae))\n",
    "print('The R-squared score for our final model is {}'.format(r2))"
   ]
  },
  {
   "cell_type": "code",
   "execution_count": 44,
   "metadata": {
    "execution": {
     "iopub.execute_input": "2020-08-22T06:59:31.517944Z",
     "iopub.status.busy": "2020-08-22T06:59:31.517086Z",
     "iopub.status.idle": "2020-08-22T06:59:31.520552Z",
     "shell.execute_reply": "2020-08-22T06:59:31.519803Z"
    },
    "papermill": {
     "duration": 0.040021,
     "end_time": "2020-08-22T06:59:31.520681",
     "exception": false,
     "start_time": "2020-08-22T06:59:31.480660",
     "status": "completed"
    },
    "tags": []
   },
   "outputs": [],
   "source": [
    "feature_name=(test_X.columns.tolist())\n",
    "feature_name[-3]='Console'\n",
    "feature_name[-2]='PC'\n",
    "feature_name[-1]='Portable'"
   ]
  },
  {
   "cell_type": "code",
   "execution_count": 45,
   "metadata": {
    "execution": {
     "iopub.execute_input": "2020-08-22T06:59:31.588177Z",
     "iopub.status.busy": "2020-08-22T06:59:31.587401Z",
     "iopub.status.idle": "2020-08-22T07:00:34.142615Z",
     "shell.execute_reply": "2020-08-22T07:00:34.143218Z"
    },
    "papermill": {
     "duration": 62.592839,
     "end_time": "2020-08-22T07:00:34.143415",
     "exception": false,
     "start_time": "2020-08-22T06:59:31.550576",
     "status": "completed"
    },
    "tags": []
   },
   "outputs": [
    {
     "name": "stderr",
     "output_type": "stream",
     "text": [
      "/opt/conda/lib/python3.7/site-packages/sklearn/utils/deprecation.py:143: FutureWarning: The sklearn.metrics.scorer module is  deprecated in version 0.22 and will be removed in version 0.24. The corresponding classes / functions should instead be imported from sklearn.metrics. Anything that cannot be imported from sklearn.metrics is now part of the private API.\n",
      "  warnings.warn(message, FutureWarning)\n",
      "/opt/conda/lib/python3.7/site-packages/sklearn/utils/deprecation.py:143: FutureWarning: The sklearn.feature_selection.base module is  deprecated in version 0.22 and will be removed in version 0.24. The corresponding classes / functions should instead be imported from sklearn.feature_selection. Anything that cannot be imported from sklearn.feature_selection is now part of the private API.\n",
      "  warnings.warn(message, FutureWarning)\n"
     ]
    },
    {
     "data": {
      "text/html": [
       "\n",
       "    <style>\n",
       "    table.eli5-weights tr:hover {\n",
       "        filter: brightness(85%);\n",
       "    }\n",
       "</style>\n",
       "\n",
       "\n",
       "\n",
       "    \n",
       "\n",
       "    \n",
       "\n",
       "    \n",
       "\n",
       "    \n",
       "\n",
       "    \n",
       "\n",
       "    \n",
       "\n",
       "\n",
       "    \n",
       "\n",
       "    \n",
       "\n",
       "    \n",
       "\n",
       "    \n",
       "\n",
       "    \n",
       "\n",
       "    \n",
       "\n",
       "\n",
       "    \n",
       "\n",
       "    \n",
       "\n",
       "    \n",
       "\n",
       "    \n",
       "\n",
       "    \n",
       "        <table class=\"eli5-weights eli5-feature-importances\" style=\"border-collapse: collapse; border: none; margin-top: 0em; table-layout: auto;\">\n",
       "    <thead>\n",
       "    <tr style=\"border: none;\">\n",
       "        <th style=\"padding: 0 1em 0 0.5em; text-align: right; border: none;\">Weight</th>\n",
       "        <th style=\"padding: 0 0.5em 0 0.5em; text-align: left; border: none;\">Feature</th>\n",
       "    </tr>\n",
       "    </thead>\n",
       "    <tbody>\n",
       "    \n",
       "        <tr style=\"background-color: hsl(120, 100.00%, 80.00%); border: none;\">\n",
       "            <td style=\"padding: 0 1em 0 0.5em; text-align: right; border: none;\">\n",
       "                0.6861\n",
       "                \n",
       "                    &plusmn; 0.1397\n",
       "                \n",
       "            </td>\n",
       "            <td style=\"padding: 0 0.5em 0 0.5em; text-align: left; border: none;\">\n",
       "                JP_Sales As a percentage of Total\n",
       "            </td>\n",
       "        </tr>\n",
       "    \n",
       "        <tr style=\"background-color: hsl(120, 100.00%, 88.62%); border: none;\">\n",
       "            <td style=\"padding: 0 1em 0 0.5em; text-align: right; border: none;\">\n",
       "                0.3066\n",
       "                \n",
       "                    &plusmn; 0.2079\n",
       "                \n",
       "            </td>\n",
       "            <td style=\"padding: 0 0.5em 0 0.5em; text-align: left; border: none;\">\n",
       "                NA_Sales As a percentage of Total\n",
       "            </td>\n",
       "        </tr>\n",
       "    \n",
       "        <tr style=\"background-color: hsl(120, 100.00%, 90.68%); border: none;\">\n",
       "            <td style=\"padding: 0 1em 0 0.5em; text-align: right; border: none;\">\n",
       "                0.2303\n",
       "                \n",
       "                    &plusmn; 0.0308\n",
       "                \n",
       "            </td>\n",
       "            <td style=\"padding: 0 0.5em 0 0.5em; text-align: left; border: none;\">\n",
       "                Mario\n",
       "            </td>\n",
       "        </tr>\n",
       "    \n",
       "        <tr style=\"background-color: hsl(120, 100.00%, 90.97%); border: none;\">\n",
       "            <td style=\"padding: 0 1em 0 0.5em; text-align: right; border: none;\">\n",
       "                0.2203\n",
       "                \n",
       "                    &plusmn; 0.0139\n",
       "                \n",
       "            </td>\n",
       "            <td style=\"padding: 0 0.5em 0 0.5em; text-align: left; border: none;\">\n",
       "                Pokemon\n",
       "            </td>\n",
       "        </tr>\n",
       "    \n",
       "        <tr style=\"background-color: hsl(120, 100.00%, 91.52%); border: none;\">\n",
       "            <td style=\"padding: 0 1em 0 0.5em; text-align: right; border: none;\">\n",
       "                0.2015\n",
       "                \n",
       "                    &plusmn; 0.1536\n",
       "                \n",
       "            </td>\n",
       "            <td style=\"padding: 0 0.5em 0 0.5em; text-align: left; border: none;\">\n",
       "                EU_Sales As a percentage of Total\n",
       "            </td>\n",
       "        </tr>\n",
       "    \n",
       "        <tr style=\"background-color: hsl(120, 100.00%, 92.35%); border: none;\">\n",
       "            <td style=\"padding: 0 1em 0 0.5em; text-align: right; border: none;\">\n",
       "                0.1740\n",
       "                \n",
       "                    &plusmn; 0.0474\n",
       "                \n",
       "            </td>\n",
       "            <td style=\"padding: 0 0.5em 0 0.5em; text-align: left; border: none;\">\n",
       "                Year\n",
       "            </td>\n",
       "        </tr>\n",
       "    \n",
       "        <tr style=\"background-color: hsl(120, 100.00%, 92.36%); border: none;\">\n",
       "            <td style=\"padding: 0 1em 0 0.5em; text-align: right; border: none;\">\n",
       "                0.1737\n",
       "                \n",
       "                    &plusmn; 0.1316\n",
       "                \n",
       "            </td>\n",
       "            <td style=\"padding: 0 0.5em 0 0.5em; text-align: left; border: none;\">\n",
       "                Other_Sales As a percentage of Total\n",
       "            </td>\n",
       "        </tr>\n",
       "    \n",
       "        <tr style=\"background-color: hsl(120, 100.00%, 96.80%); border: none;\">\n",
       "            <td style=\"padding: 0 1em 0 0.5em; text-align: right; border: none;\">\n",
       "                0.0500\n",
       "                \n",
       "                    &plusmn; 0.0517\n",
       "                \n",
       "            </td>\n",
       "            <td style=\"padding: 0 0.5em 0 0.5em; text-align: left; border: none;\">\n",
       "                Genre\n",
       "            </td>\n",
       "        </tr>\n",
       "    \n",
       "        <tr style=\"background-color: hsl(120, 100.00%, 98.00%); border: none;\">\n",
       "            <td style=\"padding: 0 1em 0 0.5em; text-align: right; border: none;\">\n",
       "                0.0255\n",
       "                \n",
       "                    &plusmn; 0.0078\n",
       "                \n",
       "            </td>\n",
       "            <td style=\"padding: 0 0.5em 0 0.5em; text-align: left; border: none;\">\n",
       "                Call of Duty\n",
       "            </td>\n",
       "        </tr>\n",
       "    \n",
       "        <tr style=\"background-color: hsl(120, 100.00%, 98.54%); border: none;\">\n",
       "            <td style=\"padding: 0 1em 0 0.5em; text-align: right; border: none;\">\n",
       "                0.0163\n",
       "                \n",
       "                    &plusmn; 0.0087\n",
       "                \n",
       "            </td>\n",
       "            <td style=\"padding: 0 0.5em 0 0.5em; text-align: left; border: none;\">\n",
       "                Console\n",
       "            </td>\n",
       "        </tr>\n",
       "    \n",
       "        <tr style=\"background-color: hsl(120, 100.00%, 98.55%); border: none;\">\n",
       "            <td style=\"padding: 0 1em 0 0.5em; text-align: right; border: none;\">\n",
       "                0.0162\n",
       "                \n",
       "                    &plusmn; 0.0051\n",
       "                \n",
       "            </td>\n",
       "            <td style=\"padding: 0 0.5em 0 0.5em; text-align: left; border: none;\">\n",
       "                Publisher\n",
       "            </td>\n",
       "        </tr>\n",
       "    \n",
       "        <tr style=\"background-color: hsl(120, 100.00%, 98.78%); border: none;\">\n",
       "            <td style=\"padding: 0 1em 0 0.5em; text-align: right; border: none;\">\n",
       "                0.0126\n",
       "                \n",
       "                    &plusmn; 0.0098\n",
       "                \n",
       "            </td>\n",
       "            <td style=\"padding: 0 0.5em 0 0.5em; text-align: left; border: none;\">\n",
       "                Portable\n",
       "            </td>\n",
       "        </tr>\n",
       "    \n",
       "        <tr style=\"background-color: hsl(120, 100.00%, 98.79%); border: none;\">\n",
       "            <td style=\"padding: 0 1em 0 0.5em; text-align: right; border: none;\">\n",
       "                0.0124\n",
       "                \n",
       "                    &plusmn; 0.0397\n",
       "                \n",
       "            </td>\n",
       "            <td style=\"padding: 0 0.5em 0 0.5em; text-align: left; border: none;\">\n",
       "                Wii\n",
       "            </td>\n",
       "        </tr>\n",
       "    \n",
       "        <tr style=\"background-color: hsl(120, 100.00%, 99.36%); border: none;\">\n",
       "            <td style=\"padding: 0 1em 0 0.5em; text-align: right; border: none;\">\n",
       "                0.0051\n",
       "                \n",
       "                    &plusmn; 0.0021\n",
       "                \n",
       "            </td>\n",
       "            <td style=\"padding: 0 0.5em 0 0.5em; text-align: left; border: none;\">\n",
       "                PC\n",
       "            </td>\n",
       "        </tr>\n",
       "    \n",
       "        <tr style=\"background-color: hsl(120, 100.00%, 99.36%); border: none;\">\n",
       "            <td style=\"padding: 0 1em 0 0.5em; text-align: right; border: none;\">\n",
       "                0.0050\n",
       "                \n",
       "                    &plusmn; 0.0002\n",
       "                \n",
       "            </td>\n",
       "            <td style=\"padding: 0 0.5em 0 0.5em; text-align: left; border: none;\">\n",
       "                FIFA\n",
       "            </td>\n",
       "        </tr>\n",
       "    \n",
       "        <tr style=\"background-color: hsl(120, 100.00%, 99.90%); border: none;\">\n",
       "            <td style=\"padding: 0 1em 0 0.5em; text-align: right; border: none;\">\n",
       "                0.0004\n",
       "                \n",
       "                    &plusmn; 0.0083\n",
       "                \n",
       "            </td>\n",
       "            <td style=\"padding: 0 0.5em 0 0.5em; text-align: left; border: none;\">\n",
       "                Grand Theft Auto\n",
       "            </td>\n",
       "        </tr>\n",
       "    \n",
       "        <tr style=\"background-color: hsl(120, 100.00%, 99.94%); border: none;\">\n",
       "            <td style=\"padding: 0 1em 0 0.5em; text-align: right; border: none;\">\n",
       "                0.0002\n",
       "                \n",
       "                    &plusmn; 0.0003\n",
       "                \n",
       "            </td>\n",
       "            <td style=\"padding: 0 0.5em 0 0.5em; text-align: left; border: none;\">\n",
       "                NBA\n",
       "            </td>\n",
       "        </tr>\n",
       "    \n",
       "        <tr style=\"background-color: hsl(0, 100.00%, 100.00%); border: none;\">\n",
       "            <td style=\"padding: 0 1em 0 0.5em; text-align: right; border: none;\">\n",
       "                0\n",
       "                \n",
       "                    &plusmn; 0.0000\n",
       "                \n",
       "            </td>\n",
       "            <td style=\"padding: 0 0.5em 0 0.5em; text-align: left; border: none;\">\n",
       "                Halo\n",
       "            </td>\n",
       "        </tr>\n",
       "    \n",
       "        <tr style=\"background-color: hsl(0, 100.00%, 99.95%); border: none;\">\n",
       "            <td style=\"padding: 0 1em 0 0.5em; text-align: right; border: none;\">\n",
       "                -0.0001\n",
       "                \n",
       "                    &plusmn; 0.0001\n",
       "                \n",
       "            </td>\n",
       "            <td style=\"padding: 0 0.5em 0 0.5em; text-align: left; border: none;\">\n",
       "                Year was Missing\n",
       "            </td>\n",
       "        </tr>\n",
       "    \n",
       "    \n",
       "    </tbody>\n",
       "</table>\n",
       "    \n",
       "\n",
       "    \n",
       "\n",
       "\n",
       "    \n",
       "\n",
       "    \n",
       "\n",
       "    \n",
       "\n",
       "    \n",
       "\n",
       "    \n",
       "\n",
       "    \n",
       "\n",
       "\n",
       "\n"
      ],
      "text/plain": [
       "<IPython.core.display.HTML object>"
      ]
     },
     "execution_count": 45,
     "metadata": {},
     "output_type": "execute_result"
    }
   ],
   "source": [
    "# Explore feature importance\n",
    "import eli5\n",
    "from eli5.sklearn import PermutationImportance\n",
    "perm = PermutationImportance(best_vote,random_state=1).fit(test_X, test_y)\n",
    "eli5.show_weights(perm,feature_names = feature_name)"
   ]
  },
  {
   "cell_type": "markdown",
   "execution_count": null,
   "metadata": {
    "papermill": {
     "duration": 0.030606,
     "end_time": "2020-08-22T07:00:34.205364",
     "exception": false,
     "start_time": "2020-08-22T07:00:34.174758",
     "status": "completed"
    },
    "tags": []
   },
   "source": [
    "We can see in the table above that the top 3 features/predictors of a video game's global sales is:\n",
    "1. Percentage of Total Sales in Japan\n",
    "2. Percentage of Total Sales in North America\n",
    "3. Mario Games\n",
    "\n",
    "This provides really interesting insights into where video games should be targeted if a company wants to maxmise its sales. \n",
    "I will discussed these insights and my interpretations further in [my blog post](https://mirpurishail.wixsite.com/portfolio/data-blogs). \n"
   ]
  },
  {
   "cell_type": "markdown",
   "execution_count": null,
   "metadata": {
    "papermill": {
     "duration": 0.030402,
     "end_time": "2020-08-22T07:00:34.266672",
     "exception": false,
     "start_time": "2020-08-22T07:00:34.236270",
     "status": "completed"
    },
    "tags": []
   },
   "source": [
    "# References\n",
    "\n",
    "[The Dataset](https://www.kaggle.com/gregorut/videogamesales)\n",
    "\n",
    "[Winsorization](https://www.youtube.com/watch?v=WLFQxoXn_uw) \n",
    "\n",
    "[Model Building and Tuning](https://www.kaggle.com/kenjee/titanic-project-example)\n",
    "\n",
    "[Permutation Importance](https://www.kaggle.com/nitindatta/fifa-in-depth-analysis-with-linear-regression)\n",
    "\n",
    "[SK Learn Documentation](https://scikit-learn.org/stable/index.html)"
   ]
  }
 ],
 "metadata": {
  "kernelspec": {
   "display_name": "Python 3",
   "language": "python",
   "name": "python3"
  },
  "language_info": {
   "codemirror_mode": {
    "name": "ipython",
    "version": 3
   },
   "file_extension": ".py",
   "mimetype": "text/x-python",
   "name": "python",
   "nbconvert_exporter": "python",
   "pygments_lexer": "ipython3",
   "version": "3.7.6"
  },
  "papermill": {
   "duration": 1616.339283,
   "end_time": "2020-08-22T07:00:34.507576",
   "environment_variables": {},
   "exception": null,
   "input_path": "__notebook__.ipynb",
   "output_path": "__notebook__.ipynb",
   "parameters": {},
   "start_time": "2020-08-22T06:33:38.168293",
   "version": "2.1.0"
  }
 },
 "nbformat": 4,
 "nbformat_minor": 4
}
